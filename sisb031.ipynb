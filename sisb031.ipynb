{
 "cells": [
  {
   "cell_type": "markdown",
   "metadata": {},
   "source": [
    "# Desenvolvimento de Software para a Web II\n",
    "\n",
    "## Conceitos de Ruby\n",
    "\n",
    "Baseada no curso do [Codecademy](https://www.codecademy.com/learn/learn-ruby)"
   ]
  },
  {
   "cell_type": "markdown",
   "metadata": {},
   "source": [
    "### Introdução\n",
    "\n",
    "- Linguagem de alto nível: fácil de escrever e entender\n",
    "- Interpretada: não precisa de compilador\n",
    "- Orientada a objetos: _tudo_ é um objeto\n",
    "- Fácil de usar\n",
    "\n",
    "#### Tipos básicos de dados\n",
    "\n",
    "- Numéricos\n",
    "- Booleano\n",
    "- String"
   ]
  },
  {
   "cell_type": "code",
   "execution_count": null,
   "metadata": {},
   "outputs": [],
   "source": [
    "numero = 10\n",
    "booleano = true # Tudo minúsculo\n",
    "string = \"UFAL\""
   ]
  },
  {
   "cell_type": "markdown",
   "metadata": {},
   "source": [
    "#### Variáveis\n",
    "\n",
    "- Declaração de variável: `variavel = <valor>`\n",
    "- Alteração de uma variável: `variavel = <novo valor>`\n",
    "\n",
    "#### Matemática\n",
    "\n",
    "- Adição: `+`\n",
    "- Subtração: `-`\n",
    "- Multiplicação: `*`\n",
    "- Divisão: `/`\n",
    "- Exponenciação: `**`\n",
    "- Módulo: `%`\n",
    "\n",
    "#### Funções 'puts' e 'print'\n",
    "\n",
    "- `print`: imprime o que você colocar como parâmetro\n",
    "- `puts`: igual `print`, mas pula uma linha\n",
    "\n",
    "obs. 1: `puts` vem de `put string`\n",
    "\n",
    "obs. 2: parênteses são opcionais"
   ]
  },
  {
   "cell_type": "code",
   "execution_count": 1,
   "metadata": {},
   "outputs": [
    {
     "name": "stdout",
     "output_type": "stream",
     "text": [
      "teste1teste2\n",
      "teste3teste4\n"
     ]
    }
   ],
   "source": [
    "print 'teste1'\n",
    "puts 'teste2'\n",
    "print('teste3')\n",
    "puts('teste4')"
   ]
  },
  {
   "cell_type": "markdown",
   "metadata": {},
   "source": [
    "#### Tudo em Ruby é um objeto\n",
    "\n",
    "Todas as variáveis possuem **métodos** que realizam diferentes operações. Os métodos são chamados utilizando um ponto após o nome da variável: `variavel.metodo`\n",
    "\n",
    "#### Método '.length'\n",
    "\n",
    "Retorna a quantidade de caracteres de uma determinada string."
   ]
  },
  {
   "cell_type": "code",
   "execution_count": 2,
   "metadata": {},
   "outputs": [
    {
     "data": {
      "text/plain": [
       "6"
      ]
     },
     "execution_count": 2,
     "metadata": {},
     "output_type": "execute_result"
    }
   ],
   "source": [
    "'thiago'.length"
   ]
  },
  {
   "cell_type": "markdown",
   "metadata": {},
   "source": [
    "#### Método '.reverse'\n",
    "\n",
    "Retorna a string invertida."
   ]
  },
  {
   "cell_type": "code",
   "execution_count": 4,
   "metadata": {},
   "outputs": [
    {
     "name": "stdout",
     "output_type": "stream",
     "text": [
      "thiago\n"
     ]
    }
   ],
   "source": [
    "t = 'thiago'\n",
    "t.reverse\n",
    "puts t"
   ]
  },
  {
   "cell_type": "markdown",
   "metadata": {},
   "source": [
    "#### Métodos '.upcase' e '.downcase'\n",
    "\n",
    "Retornam a string com todas as letras maiúsculas e minúsculas, respectivamente."
   ]
  },
  {
   "cell_type": "code",
   "execution_count": 5,
   "metadata": {},
   "outputs": [
    {
     "name": "stdout",
     "output_type": "stream",
     "text": [
      "THIAGO\n",
      "thiago\n"
     ]
    }
   ],
   "source": [
    "puts 'thiAGo'.upcase\n",
    "puts 'ThiAGO'.downcase"
   ]
  },
  {
   "cell_type": "markdown",
   "metadata": {},
   "source": [
    "#### Comentário em uma linha\n",
    "\n",
    "O comentário é escrito após o símbolo `#`."
   ]
  },
  {
   "cell_type": "code",
   "execution_count": null,
   "metadata": {},
   "outputs": [],
   "source": [
    "puts 'teste' # Exemplo de comentário"
   ]
  },
  {
   "cell_type": "markdown",
   "metadata": {},
   "source": [
    "#### Comentário em múltiplas linhas\n",
    "\n",
    "O comentário em múltiplas linhas começa com `=begin` e termina com `=end` (sem espaço entre o `=` e as palavras)."
   ]
  },
  {
   "cell_type": "code",
   "execution_count": null,
   "metadata": {},
   "outputs": [],
   "source": [
    "puts 'teste'\n",
    "=begin\n",
    "comentário de\n",
    "múltiplas\n",
    "linhas\n",
    "=end"
   ]
  },
  {
   "cell_type": "markdown",
   "metadata": {},
   "source": [
    "#### Nomenclatura das variáveis\n",
    "\n",
    "Variáveis locais devem seguir um formato de uma ou múltiplas palavras com letras minúsculas separadas por `_`."
   ]
  },
  {
   "cell_type": "code",
   "execution_count": null,
   "metadata": {},
   "outputs": [],
   "source": [
    "variavel = 4\n",
    "variavel_local = 'thiago'\n",
    "outra_variavel = 'teste'"
   ]
  },
  {
   "cell_type": "markdown",
   "metadata": {},
   "source": [
    "#### Exercícios\n",
    "\n",
    "1. Criar variáveis dos tipos básicos\n",
    "2. Realizar operações matemáticas\n",
    "3. Aplicar os diferentes métodos de strings\n",
    "\n",
    "obs.: métodos podem ser aplicados em sequência em uma única linha. Ex.: `'thiago'.reverse.upcase`"
   ]
  },
  {
   "cell_type": "markdown",
   "metadata": {},
   "source": [
    "### Criando um formulário\n",
    "\n",
    "#### Solicitando a entrada do usuário\n",
    "\n",
    "Para solicitar uma informação ao usuário, utilizamos a função `print`."
   ]
  },
  {
   "cell_type": "code",
   "execution_count": null,
   "metadata": {},
   "outputs": [],
   "source": [
    "print \"Qual é o seu nome? \""
   ]
  },
  {
   "cell_type": "markdown",
   "metadata": {},
   "source": [
    "#### Guardando a entrada em uma variável\n",
    "\n",
    "Para receber uma entrada de string, utilize o método `gets` em conjunto com o método `chomp`. O primeiro guarda a entrada com uma linha extra no final e o segundo remove essa linha extra."
   ]
  },
  {
   "cell_type": "code",
   "execution_count": 6,
   "metadata": {},
   "outputs": [
    {
     "data": {
      "text/plain": [
       "\"thiago\""
      ]
     },
     "execution_count": 6,
     "metadata": {},
     "output_type": "execute_result"
    }
   ],
   "source": [
    "# print \"Qual é o seu nome?\"\n",
    "# nome = gets.chomp\n",
    "nome = IRuby::input \"Qual é o seu nome?\""
   ]
  },
  {
   "cell_type": "markdown",
   "metadata": {},
   "source": [
    "#### Interpolação de string\n",
    "\n",
    "Você pode inserir uma string dentro de outra usando a notação `#{variavel}`.\n",
    "\n",
    "obs.1: a string onde a variável será inserida precisa estar delimitada por **aspas duplas**.\n",
    "\n",
    "obs.2: a interpolação pode ser feita com qualquer tipo de dado, não precisa ser uma string."
   ]
  },
  {
   "cell_type": "code",
   "execution_count": 7,
   "metadata": {},
   "outputs": [
    {
     "name": "stdout",
     "output_type": "stream",
     "text": [
      "Seu nome é thiago\n"
     ]
    }
   ],
   "source": [
    "# print \"Qual é o seu nome?\"\n",
    "# nome = gets.chomp\n",
    "nome = IRuby::input \"Qual é o seu nome?\"\n",
    "puts \"Seu nome é #{nome}\""
   ]
  },
  {
   "cell_type": "markdown",
   "metadata": {},
   "source": [
    "#### Métodos '.capitalize' e '.capitalize!'\n",
    "\n",
    "O método `.capitalize` retorna a string com a primeira letra maiúscula. O método `.capitalize!` atribui à própria variável o valor do método `.capitalize`. Ex.: `variavel.capitalize!` é o mesmo que `variavel = variavel.capitalize`.\n",
    "\n",
    "obs.: vários outros métodos possuem uma versão com exclamação, que atribuem o resultado à variável."
   ]
  },
  {
   "cell_type": "code",
   "execution_count": 8,
   "metadata": {},
   "outputs": [
    {
     "name": "stdout",
     "output_type": "stream",
     "text": [
      "thiago\n",
      "Thiago\n",
      "Thiago\n"
     ]
    }
   ],
   "source": [
    "nome = 'thiago'\n",
    "puts nome\n",
    "nome_cap = nome.capitalize\n",
    "puts nome_cap\n",
    "nome.capitalize!\n",
    "puts nome"
   ]
  },
  {
   "cell_type": "markdown",
   "metadata": {},
   "source": [
    "### Controle de Fluxo\n",
    "\n",
    "#### If\n",
    "\n",
    "O comando `if` recebe uma expressão lógica e executa o bloco de código que a segue se o valor for `true`. Se o valor for `false`, o bloco não é executado.\n",
    "\n",
    "obs.: é uma boa prática indentar o bloco dentro de um `if` (ou outros comandos de fluxo)."
   ]
  },
  {
   "cell_type": "code",
   "execution_count": 9,
   "metadata": {},
   "outputs": [
    {
     "name": "stdout",
     "output_type": "stream",
     "text": [
      "thiago\n"
     ]
    }
   ],
   "source": [
    "if 35 > 2\n",
    "  puts 'thiago'\n",
    "end"
   ]
  },
  {
   "cell_type": "markdown",
   "metadata": {},
   "source": [
    "#### Else\n",
    "\n",
    "O `else` pode ser usado em conjunto com o `if` para fornecer um bloco alternativo a ser executado, caso a expressão lógica tenha o valor `false`."
   ]
  },
  {
   "cell_type": "code",
   "execution_count": 10,
   "metadata": {},
   "outputs": [
    {
     "name": "stdout",
     "output_type": "stream",
     "text": [
      "thiago_false\n"
     ]
    }
   ],
   "source": [
    "if 35 < 2\n",
    "  puts 'thiago_true'\n",
    "else\n",
    "  puts 'thiago_false'\n",
    "end"
   ]
  },
  {
   "cell_type": "markdown",
   "metadata": {},
   "source": [
    "#### Elsif\n",
    "\n",
    "O `elsif` pode ser usado (múltiplas vezes) em conjunto com `if` para fornecer expressões lógicas alternativas. O `else` pode ser utilizado por último como um bloco que será executado caso nenhuma expressão seja verdadeira."
   ]
  },
  {
   "cell_type": "code",
   "execution_count": 11,
   "metadata": {},
   "outputs": [
    {
     "name": "stdout",
     "output_type": "stream",
     "text": [
      "x é maior que y\n"
     ]
    }
   ],
   "source": [
    "x = 6\n",
    "y = 5\n",
    "\n",
    "if x > y\n",
    "  puts 'x é maior que y'\n",
    "elsif x < y\n",
    "  puts 'x é menor que y'\n",
    "else\n",
    "  puts 'x é igual a y'\n",
    "end"
   ]
  },
  {
   "cell_type": "markdown",
   "metadata": {},
   "source": [
    "#### Unless\n",
    "\n",
    "Semelhante ao `if`, mas executa o bloco se a expressão tiver o valor `false`. Analogamente, pode ser usado em conjunto com o `else`."
   ]
  },
  {
   "cell_type": "code",
   "execution_count": null,
   "metadata": {},
   "outputs": [],
   "source": [
    "unless 35 < 2\n",
    "  puts 'thiago'\n",
    "else\n",
    "  puts 'web'\n",
    "end"
   ]
  },
  {
   "cell_type": "markdown",
   "metadata": {},
   "source": [
    "#### Operadores de comparação: igual/diferente\n",
    "\n",
    "Para checar se duas variáveis são iguais, utiliza-se `==`. Para checar se são diferentes, utiliza-se `!=`."
   ]
  },
  {
   "cell_type": "code",
   "execution_count": 12,
   "metadata": {},
   "outputs": [
    {
     "name": "stdout",
     "output_type": "stream",
     "text": [
      "false\n",
      "true\n"
     ]
    }
   ],
   "source": [
    "x = 4\n",
    "y = 5\n",
    "\n",
    "puts x == y\n",
    "puts x != y"
   ]
  },
  {
   "cell_type": "markdown",
   "metadata": {},
   "source": [
    "#### Outros operadores de comparação\n",
    "\n",
    "- Maior que: `>`\n",
    "- Maior ou igual: `>=`\n",
    "- Menor que: `<`\n",
    "- Menor ou igual: `<=`"
   ]
  },
  {
   "cell_type": "code",
   "execution_count": 13,
   "metadata": {},
   "outputs": [
    {
     "name": "stdout",
     "output_type": "stream",
     "text": [
      "true\n",
      "true\n",
      "false\n",
      "false\n"
     ]
    }
   ],
   "source": [
    "x = 5\n",
    "y = 4\n",
    "\n",
    "\n",
    "puts x > y\n",
    "puts x >= y\n",
    "puts x < y\n",
    "puts x <= y"
   ]
  },
  {
   "cell_type": "markdown",
   "metadata": {},
   "source": [
    "#### Exercícios\n",
    "\n",
    "Qual o valor dos testes abaixo?\n",
    "\n",
    "1. teste_1 = 77 != 77\n",
    "2. teste_2 = -4 <= -4\n",
    "3. teste_3 = -44 < -33\n",
    "4. teste_4 = 100 == 1000"
   ]
  },
  {
   "cell_type": "markdown",
   "metadata": {},
   "source": [
    "#### And\n",
    "\n",
    "A operação lógica AND (E) é feita com o operador `&&`"
   ]
  },
  {
   "cell_type": "code",
   "execution_count": 14,
   "metadata": {},
   "outputs": [
    {
     "name": "stdout",
     "output_type": "stream",
     "text": [
      "false\n",
      "false\n",
      "false\n",
      "true\n"
     ]
    }
   ],
   "source": [
    "puts false && false\n",
    "puts false && true\n",
    "puts true && false\n",
    "puts true && true\n",
    "\n",
    "# Qual o valor dos testes abaixo?\n",
    "# teste_1 = 2**3 != 3**2 || true\n",
    "# teste_2 = false || -10 > -9\n",
    "# teste_3 = false || false"
   ]
  },
  {
   "cell_type": "markdown",
   "metadata": {},
   "source": [
    "#### Or\n",
    "\n",
    "A operação lógica OR (OU) é feita com o operador `||`."
   ]
  },
  {
   "cell_type": "code",
   "execution_count": 15,
   "metadata": {},
   "outputs": [
    {
     "name": "stdout",
     "output_type": "stream",
     "text": [
      "false\n",
      "true\n",
      "true\n",
      "true\n"
     ]
    }
   ],
   "source": [
    "puts false || false\n",
    "puts false || true\n",
    "puts true || false\n",
    "puts true || true\n",
    "\n",
    "# Qual o valor dos testes abaixo?\n",
    "# teste_1 = 2**3 != 3**2 || true\n",
    "# teste_2 = false || -10 > -9\n",
    "# teste_3 = false || false"
   ]
  },
  {
   "cell_type": "markdown",
   "metadata": {},
   "source": [
    "#### Not\n",
    "\n",
    "A operação lógica OR (OU) é feita com o operador `!`."
   ]
  },
  {
   "cell_type": "code",
   "execution_count": 16,
   "metadata": {},
   "outputs": [
    {
     "name": "stdout",
     "output_type": "stream",
     "text": [
      "true\n",
      "false\n"
     ]
    }
   ],
   "source": [
    "puts !false\n",
    "puts !true\n",
    "\n",
    "# Qual o valor dos testes abaixo?\n",
    "# teste_1 = !true\n",
    "# teste_2 = !true && !true\n",
    "# teste_3 = !(700 / 10 == 70)"
   ]
  },
  {
   "cell_type": "markdown",
   "metadata": {},
   "source": [
    "#### Exercícios: Combinando operadores\n",
    "\n",
    "Qual o valor dos testes abaixo?\n",
    "\n",
    "1. `teste_1 = (3 < 4 || false) && (false || true)`\n",
    "2. `teste_2 = !true && (!true || 100 != 5**2)`\n",
    "3. `teste_3 = true || !(true || false)`\n",
    "\n",
    "#### Exercício: if/else\n",
    "\n",
    "Crie uma declaração `if`/`elsif`/`else` onde cada bloco imprima uma frase diferente.\n",
    "\n",
    "#### Exercício: unless\n",
    "\n",
    "Crie uma declaração `unless` que imprima algo na tela.\n",
    "\n",
    "obs.: as declarações `if` e `unless` podem ser usados em uma única linha **após** o comando. Ex.:\n",
    "- `x = 2 if 6 > 7`\n",
    "- `y = 34 unless 8 < 9`\n",
    "\n",
    "#### Exercício: operadores de comparação\n",
    "\n",
    "Crie três expressões lógicas com os valores `false`, `false` e `true`, respectivamente, utilizando operadores de comparação.\n",
    "\n",
    "#### Exercício: operadores lógicos\n",
    "\n",
    "Crie três expressões lógicas com os valores `true`, `true` e `false`, respectivamente utilizando operadores lógicos.\n",
    "\n",
    "Ex.: `(expressao1) && (expressao2)`"
   ]
  },
  {
   "cell_type": "markdown",
   "metadata": {},
   "source": [
    "### Projeto: Cebolinha\n",
    "\n",
    "Criar um programa que receba uma string e troque todos os `r` por `l`.\n",
    "\n",
    "**Desafio**: garantir que os `rr` sejam substituídos por um único `l`.\n",
    "\n",
    "#### Passos\n",
    "\n",
    "1. Receber a entrada do usuário\n",
    "2. Transformar a string para letras minúsculas, assim não precisaremos checar `R` e `r`\n",
    "3. Checar se a string possui `r` com o método `.include?`\n",
    "4. Caso positivo, substituir os `r` por `l` usando o método `.gsub`\n",
    "5. Caso negativo, enviar uma mensagem de erro ao usuário\n",
    "6. Imprimir o resultado na tela, usando interpolação de string"
   ]
  },
  {
   "cell_type": "markdown",
   "metadata": {},
   "source": [
    "#### Método '.include?'\n",
    "\n",
    "Esse método retorna `true` se a string possui a substring que foi passada como parâmetro e retorna `false` no caso contrário.\n",
    "\n",
    "obs.: em geral, métodos que terminam com `?` retornam um valor booleano."
   ]
  },
  {
   "cell_type": "code",
   "execution_count": 17,
   "metadata": {},
   "outputs": [
    {
     "name": "stdout",
     "output_type": "stream",
     "text": [
      "true\n",
      "false\n"
     ]
    }
   ],
   "source": [
    "puts 'thiago'.include? 'thi'\n",
    "puts 'thiago'.include? 'xyz'"
   ]
  },
  {
   "cell_type": "markdown",
   "metadata": {},
   "source": [
    "#### Método '.gsub'\n",
    "\n",
    "Substitui uma substring em uma string, a partir de um padrão fornecido (entre barras). Ex.: `string.gsub(/padrao/, substring)`\n",
    "\n",
    "obs.: possui uma versão com exclamação `gsub!`, que atribui o resultado da substituição à string."
   ]
  },
  {
   "cell_type": "code",
   "execution_count": 18,
   "metadata": {},
   "outputs": [
    {
     "data": {
      "text/plain": [
       "\"tXYZgo\""
      ]
     },
     "execution_count": 18,
     "metadata": {},
     "output_type": "execute_result"
    }
   ],
   "source": [
    "'thiago'.gsub(/hia/,'XYZ')"
   ]
  },
  {
   "cell_type": "markdown",
   "metadata": {},
   "source": [
    "### Laços e Iteradores\n",
    "\n",
    "#### While\n",
    "\n",
    "Executa um bloco de código enquanto a expressão lógica tiver valor `true`.\n",
    "\n",
    "obs.: na maioria dos casos tenta-se **evitar** um laço infinito, onde a expressão lógica nunca deixa de ser `true`."
   ]
  },
  {
   "cell_type": "code",
   "execution_count": 19,
   "metadata": {},
   "outputs": [
    {
     "name": "stdout",
     "output_type": "stream",
     "text": [
      "1\n",
      "2\n",
      "3\n",
      "4\n"
     ]
    }
   ],
   "source": [
    "x = 1\n",
    "while x < 5\n",
    "  puts x\n",
    "  x = x + 1\n",
    "end"
   ]
  },
  {
   "cell_type": "markdown",
   "metadata": {},
   "source": [
    "#### Until\n",
    "\n",
    "Análogo do `while`, executa um bloco de código até que uma dada expressão lógica seja `true`. Alternativamente, executa um bloco enquanto (ou até que) a expressão seja verdadeira."
   ]
  },
  {
   "cell_type": "code",
   "execution_count": 20,
   "metadata": {},
   "outputs": [
    {
     "name": "stdout",
     "output_type": "stream",
     "text": [
      "1\n",
      "2\n",
      "3\n",
      "4\n"
     ]
    }
   ],
   "source": [
    "x = 1\n",
    "until x == 5\n",
    "  puts x\n",
    "  x = x + 1\n",
    "end"
   ]
  },
  {
   "cell_type": "markdown",
   "metadata": {},
   "source": [
    "#### Operadores de atribuição adicionais\n",
    "\n",
    "Os operadores `+=`, `-=`, `*=` e `/=` atribuem à variável o resultado da operação descrita antes do `=` entre a própria variável e um outro valor. Ex.: `x += 1` é o mesmo que `x = x + 1`."
   ]
  },
  {
   "cell_type": "code",
   "execution_count": 21,
   "metadata": {},
   "outputs": [
    {
     "name": "stdout",
     "output_type": "stream",
     "text": [
      "3\n"
     ]
    }
   ],
   "source": [
    "x = 2\n",
    "x += 1\n",
    "puts x"
   ]
  },
  {
   "cell_type": "markdown",
   "metadata": {},
   "source": [
    "#### For\n",
    "\n",
    "Executa um bloco de código para cada valor de um determinado conjunto."
   ]
  },
  {
   "cell_type": "code",
   "execution_count": 22,
   "metadata": {},
   "outputs": [
    {
     "name": "stdout",
     "output_type": "stream",
     "text": [
      "1\n",
      "2\n",
      "3\n",
      "4\n",
      "5\n",
      "6\n",
      "7\n",
      "8\n",
      "9\n"
     ]
    },
    {
     "data": {
      "text/plain": [
       "1...10"
      ]
     },
     "execution_count": 22,
     "metadata": {},
     "output_type": "execute_result"
    }
   ],
   "source": [
    "for i in 1...10\n",
    "  puts i\n",
    "end"
   ]
  },
  {
   "cell_type": "markdown",
   "metadata": {},
   "source": [
    "#### Ranges inclusivos e exclusivos\n",
    "\n",
    "A notação `numero_inicial...numero_final` (com três pontos) cria um range que vai do número incial até o número antes do final (exclui o último número -- exclusivo). A notação `numero_inicial..numero_final` (com dois pontos) cria um range que vai do número incial até o número final (inclui o último número -- inclusivo). Ex.: `1..10` = `1...11`"
   ]
  },
  {
   "cell_type": "code",
   "execution_count": 23,
   "metadata": {},
   "outputs": [
    {
     "name": "stdout",
     "output_type": "stream",
     "text": [
      "1\n",
      "2\n",
      "\n",
      "10\n",
      "11\n",
      "12\n",
      "13\n"
     ]
    },
    {
     "data": {
      "text/plain": [
       "10..13"
      ]
     },
     "execution_count": 23,
     "metadata": {},
     "output_type": "execute_result"
    }
   ],
   "source": [
    "for num in 1...3\n",
    "  puts num\n",
    "end\n",
    "\n",
    "puts\n",
    "\n",
    "for num in 10..13\n",
    "  puts num\n",
    "end"
   ]
  },
  {
   "cell_type": "markdown",
   "metadata": {},
   "source": [
    "#### Exercício: for\n",
    "\n",
    "Crie um laço `for` que imprime os números de 1 a 20 (incluindo o 20) na tela usando um range inclusivo ou exclusivo."
   ]
  },
  {
   "cell_type": "markdown",
   "metadata": {},
   "source": [
    "#### Iterador loop\n",
    "\n",
    "O iterador `loop` repete o bloco de código que está dentro dele indefinidamente. Para sair do laço, é necessária a utilização do método `break` atrelado a alguma condição. O bloco dentro do método `loop` pode ser chamado entre chaves `{ bloco }` ou entre as palavras `do` e `end`, `do bloco end`.\n",
    "\n",
    "obs.: em geral, utiliza-se a notação de chaves para uma única linha de código e a notação `do`/`end` para múltiplas linhas de código."
   ]
  },
  {
   "cell_type": "code",
   "execution_count": 25,
   "metadata": {},
   "outputs": [
    {
     "name": "stdout",
     "output_type": "stream",
     "text": [
      "0123"
     ]
    }
   ],
   "source": [
    "# loop { puts 'Olá' } -- laço infinito\n",
    "\n",
    "i = 0\n",
    "\n",
    "loop do\n",
    "  print i\n",
    "  i += 1\n",
    "  break if i == 4\n",
    "end"
   ]
  },
  {
   "cell_type": "markdown",
   "metadata": {},
   "source": [
    "#### Comando next\n",
    "\n",
    "O comando `next`, usado em conjunto com `if` ou `unless`, pula a execução do bloco de código em um laço de acordo com a expressão lógica utilizada."
   ]
  },
  {
   "cell_type": "code",
   "execution_count": 29,
   "metadata": {},
   "outputs": [
    {
     "name": "stdout",
     "output_type": "stream",
     "text": [
      "13579"
     ]
    },
    {
     "data": {
      "text/plain": [
       "1..10"
      ]
     },
     "execution_count": 29,
     "metadata": {},
     "output_type": "execute_result"
    }
   ],
   "source": [
    "for num in 1..10\n",
    "  next if (num % 2) == 0\n",
    "  print num\n",
    "end"
   ]
  },
  {
   "cell_type": "markdown",
   "metadata": {},
   "source": [
    "#### Array\n",
    "\n",
    "Um array armazena um conjunto de valores. O valores em um array ficam entre colchetes `[]` e separados por vírgula `,`."
   ]
  },
  {
   "cell_type": "code",
   "execution_count": 33,
   "metadata": {},
   "outputs": [
    {
     "name": "stdout",
     "output_type": "stream",
     "text": [
      "[1, \"thiago\", true, 45]"
     ]
    }
   ],
   "source": [
    "x = [1, 'thiago', true, 45]\n",
    "print x"
   ]
  },
  {
   "cell_type": "markdown",
   "metadata": {},
   "source": [
    "#### Iterador '.each'\n",
    "\n",
    "Semelhante ao `loop`, mas executa um bloco de código para cada elemento em um objeto. A notação é similar, no entando o bloco recebe um parâmetro para o elemento, o qual é declarado entre barras verticais. Ex.:\n",
    "\n",
    "- `objeto.each do |elemento| bloco end`\n",
    "- `objeto.each { |elemento| bloco }`"
   ]
  },
  {
   "cell_type": "code",
   "execution_count": 31,
   "metadata": {
    "scrolled": true
   },
   "outputs": [
    {
     "name": "stdout",
     "output_type": "stream",
     "text": [
      "2\n",
      "4\n",
      "6\n",
      "8\n"
     ]
    },
    {
     "data": {
      "text/plain": [
       "[1, 2, 3, 4]"
      ]
     },
     "execution_count": 31,
     "metadata": {},
     "output_type": "execute_result"
    }
   ],
   "source": [
    "[1, 2, 3, 4].each do |x|\n",
    "  x *= 2\n",
    "  puts \"#{x}\"\n",
    "end"
   ]
  },
  {
   "cell_type": "markdown",
   "metadata": {},
   "source": [
    "#### Iterador '.times'\n",
    "\n",
    "Semelhante ao `for`, mas mais compacto. Executa um bloco de código uma determinada quantidade de vezes."
   ]
  },
  {
   "cell_type": "code",
   "execution_count": 32,
   "metadata": {},
   "outputs": [
    {
     "name": "stdout",
     "output_type": "stream",
     "text": [
      "thiago\n",
      "thiago\n",
      "thiago\n",
      "ufal\n",
      "ufal\n",
      "ufal\n"
     ]
    },
    {
     "data": {
      "text/plain": [
       "3"
      ]
     },
     "execution_count": 32,
     "metadata": {},
     "output_type": "execute_result"
    }
   ],
   "source": [
    "3.times { puts 'thiago' }\n",
    "\n",
    "3.times do\n",
    "  puts 'ufal'\n",
    "end"
   ]
  },
  {
   "cell_type": "markdown",
   "metadata": {},
   "source": [
    "#### Exercício: while\n",
    "\n",
    "Use o `while` para imprimir os números de 1 a 50 (incluindo o 50) em uma única linha.\n",
    "\n",
    "Não esquecer de atualizar a variável!\n",
    "\n",
    "#### Exercício: until\n",
    "\n",
    "Refaça o exercício anterior com `until`.\n",
    "\n",
    "#### Exercício: for\n",
    "\n",
    "Refaça o exercício anterior com `for`.\n",
    "\n",
    "#### Exercício: loop\n",
    "\n",
    "Utilize o `loop` para imprimir seu nome na tela, em uma única linha, 30 vezes.\n",
    "\n",
    "Não esquecer de colocar uma condição de saída com `break`!\n",
    "\n",
    "#### Exercício: '.times'\n",
    "\n",
    "Refaça o exercício anterior com `.times`"
   ]
  },
  {
   "cell_type": "markdown",
   "metadata": {},
   "source": [
    "### Projeto: Escondendo informações\n",
    "\n",
    "Crie um programa que substitua um determinado termo por `XXXXX`.\n",
    "\n",
    "#### Passos\n",
    "\n",
    "1. Receber do usuário o texto e o termo a ser substituído\n",
    "2. Transforme um texto em um array onde cada elemento é uma palavra da frase usando o método '.split'\n",
    "3. Utilizando um laço `.each`, verifique com um `if`/`else` cada palavra no array e imprima apenas aquelas que não são iguais ao termo dado como entrada\n",
    "4. Para as palavras iguais ao termo, imprima a string `XXXXX` no lugar"
   ]
  },
  {
   "cell_type": "markdown",
   "metadata": {},
   "source": [
    "#### Método '.split'\n",
    "\n",
    "Recebe uma string como entrada e retorna um array. O array contém as substrings separadas pela string de entrada (chamada de **delimitador**)."
   ]
  },
  {
   "cell_type": "code",
   "execution_count": 34,
   "metadata": {},
   "outputs": [
    {
     "data": {
      "text/plain": [
       "[\"th\", \"ia\", \"go\"]"
      ]
     },
     "execution_count": 34,
     "metadata": {},
     "output_type": "execute_result"
    }
   ],
   "source": [
    "'th ia go'.split(' ')"
   ]
  },
  {
   "cell_type": "markdown",
   "metadata": {},
   "source": [
    "### Estruturas de Dados\n",
    "\n",
    "#### Acessando um array pelo índice\n",
    "\n",
    "Você pode acessar um determinado elemento em um array pela sua posição (a primeira posição é a 0). A posição é dada após o nome da variável entre colchetes."
   ]
  },
  {
   "cell_type": "code",
   "execution_count": 35,
   "metadata": {},
   "outputs": [
    {
     "name": "stdout",
     "output_type": "stream",
     "text": [
      "1\n"
     ]
    }
   ],
   "source": [
    "array = [1, 2, 3, 4]\n",
    "puts array[0]"
   ]
  },
  {
   "cell_type": "markdown",
   "metadata": {},
   "source": [
    "#### Arrays não numéricos\n",
    "\n",
    "Um array pode conter outros tipos de dados, inclusive tipos misturados."
   ]
  },
  {
   "cell_type": "code",
   "execution_count": 36,
   "metadata": {
    "scrolled": false
   },
   "outputs": [
    {
     "data": {
      "text/plain": [
       "[133, \"thiago\", true]"
      ]
     },
     "execution_count": 36,
     "metadata": {},
     "output_type": "execute_result"
    }
   ],
   "source": [
    "array = [133, 'thiago', true]"
   ]
  },
  {
   "cell_type": "markdown",
   "metadata": {},
   "source": [
    "#### Array de arrays\n",
    "\n",
    "Um array pode conter também outros arrays. Esses arrays podem ser chamados de **arrays multidimensionais** (ex.: matrizes). Os elementos de um array multidimensional podem ser acessados semelhantemente aos arrays unidimensionais, sendo necessário colocar um grupo de colchetes igual ao número de dimensões do array."
   ]
  },
  {
   "cell_type": "code",
   "execution_count": null,
   "metadata": {},
   "outputs": [],
   "source": [
    "mult_array = [[1, 2, 3], [4, 5, 6], [7, 8, 9]]\n",
    "puts mult_array\n",
    "puts mult_array[1][2]"
   ]
  },
  {
   "cell_type": "markdown",
   "metadata": {},
   "source": [
    "#### Hashes\n",
    "\n",
    "Hashes são coleções de pares `chave`/`valor`. Cada chave possui um único valor atrelado."
   ]
  },
  {
   "cell_type": "code",
   "execution_count": 40,
   "metadata": {},
   "outputs": [
    {
     "data": {
      "text/plain": [
       "{\"nome\"=>\"thiago\", \"idade\"=>200, \"professor?\"=>true}"
      ]
     },
     "execution_count": 40,
     "metadata": {},
     "output_type": "execute_result"
    }
   ],
   "source": [
    "pessoa = {\n",
    "  'nome' => 'thiago',\n",
    "  'idade' => 200,\n",
    "  'professor?' => true\n",
    "}"
   ]
  },
  {
   "cell_type": "markdown",
   "metadata": {},
   "source": [
    "#### Criando um novo hash com Hash.new\n",
    "\n",
    "O código `Hash.new` utiliza o método `new` da classe `Hash` para retornar um hash vazio."
   ]
  },
  {
   "cell_type": "code",
   "execution_count": 37,
   "metadata": {},
   "outputs": [
    {
     "name": "stdout",
     "output_type": "stream",
     "text": [
      "{}\n"
     ]
    }
   ],
   "source": [
    "h = Hash.new\n",
    "puts h"
   ]
  },
  {
   "cell_type": "markdown",
   "metadata": {},
   "source": [
    "#### Adicionando elementos a um hash\n",
    "\n",
    "Utilizando a notação de acesso com uma nova chave, é possível adicionar valores a um hash."
   ]
  },
  {
   "cell_type": "code",
   "execution_count": 38,
   "metadata": {},
   "outputs": [
    {
     "name": "stdout",
     "output_type": "stream",
     "text": [
      "{\"chave\"=>\"valor\"}\n"
     ]
    }
   ],
   "source": [
    "h['chave'] = 'valor'\n",
    "puts h"
   ]
  },
  {
   "cell_type": "markdown",
   "metadata": {},
   "source": [
    "#### Acessando elementos em um hash\n",
    "\n",
    "O acesso aos valores é feito da mesma forma que se faz com um array, no entanto se usa a chave e não a posição do elemento."
   ]
  },
  {
   "cell_type": "code",
   "execution_count": 41,
   "metadata": {},
   "outputs": [
    {
     "name": "stdout",
     "output_type": "stream",
     "text": [
      "thiago\n",
      "200\n",
      "true\n"
     ]
    }
   ],
   "source": [
    "puts pessoa['nome']\n",
    "puts pessoa['idade']\n",
    "puts pessoa['professor?']"
   ]
  },
  {
   "cell_type": "markdown",
   "metadata": {},
   "source": [
    "#### Iteração sobre arrays\n",
    "\n",
    "Como visto anteriormente, é possível utilizar o iterador `.each` em um array para executar um bloco de código em cada elemento."
   ]
  },
  {
   "cell_type": "code",
   "execution_count": null,
   "metadata": {},
   "outputs": [],
   "source": [
    "array = ['abc', 'def', 'ghi']\n",
    "array.each { |elem| print elem }"
   ]
  },
  {
   "cell_type": "markdown",
   "metadata": {},
   "source": [
    "#### Iteração sobre arrays multidimensionais\n",
    "\n",
    "O iterador `.each` pode ser utilizado repetidas vezes em um array de arrays para executar um bloco em cada elemento."
   ]
  },
  {
   "cell_type": "code",
   "execution_count": 42,
   "metadata": {},
   "outputs": [
    {
     "name": "stdout",
     "output_type": "stream",
     "text": [
      "14916"
     ]
    },
    {
     "data": {
      "text/plain": [
       "[[1, 2], [3, 4]]"
      ]
     },
     "execution_count": 42,
     "metadata": {},
     "output_type": "execute_result"
    }
   ],
   "source": [
    "array = [[1, 2], [3, 4]]\n",
    "array.each do |sub_array|\n",
    "  sub_array.each do |elemento|\n",
    "    print elemento**2\n",
    "  end\n",
    "end"
   ]
  },
  {
   "cell_type": "markdown",
   "metadata": {},
   "source": [
    "#### Iteração sobre hashes\n",
    "\n",
    "Quando se usa o iterador `.each` em um hash, é necessário declarar duas variáveis entre barras verticais separadas por vírgula, relativas a chave e o valor associado."
   ]
  },
  {
   "cell_type": "code",
   "execution_count": 43,
   "metadata": {},
   "outputs": [
    {
     "name": "stdout",
     "output_type": "stream",
     "text": [
      "nome: thiago\n",
      "idade: 200\n",
      "professor?: true\n"
     ]
    },
    {
     "data": {
      "text/plain": [
       "{\"nome\"=>\"thiago\", \"idade\"=>200, \"professor?\"=>true}"
      ]
     },
     "execution_count": 43,
     "metadata": {},
     "output_type": "execute_result"
    }
   ],
   "source": [
    "pessoa.each do |chave, valor|\n",
    "  puts \"#{chave}: #{valor}\"\n",
    "end"
   ]
  },
  {
   "cell_type": "markdown",
   "metadata": {},
   "source": [
    "#### Exercício: array multidimensional\n",
    "\n",
    "Crie um array multidimensional com vários tipos de dados.\n",
    "\n",
    "#### Exercício: hashes\n",
    "\n",
    "Crie um hash com pelo menos um par chave/valor.\n",
    "\n",
    "#### Exercício: iteração sobre hash\n",
    "\n",
    "Imprima cada valor do hash abaixo (sem a chave, apenas o valor) utilizando o iterador `.each`:\n",
    "\n",
    "``` ruby\n",
    "almoco = {\n",
    "  \"Thiago\" => \"sopa\",\n",
    "  \"José\" => \"hambúrguer\",\n",
    "  \"Maria\" => \"sanduíche\",\n",
    "  \"Ana\" => \"salada\"\n",
    "}\n",
    "```"
   ]
  },
  {
   "cell_type": "markdown",
   "metadata": {},
   "source": [
    "### Projeto: Histograma\n",
    "\n",
    "Crie um programa que conte quantas vezes cada palavra aparece em um texto e imprima os valores na tela.\n",
    "\n",
    "#### Passos\n",
    "\n",
    "1. Receber o texto do usuário\n",
    "2. Utilize o método `.split` para separar o texto em um array palavras\n",
    "3. Crie um hash com valor padrão 0 para contabilizar a frequência de palavras\n",
    "4. A partir de uma iteração no array de palavras, utilizando cada palavra como uma chave, incremente o valor de cada palavra no hash\n",
    "5. Ordene o hash pelo valor da frequência de cada palavra com o método `.sort_by`\n",
    "6. A partir de uma iteração no array resultante do método `.sort_by`, imprima a palavra e a respectiva contagem na tela"
   ]
  },
  {
   "cell_type": "markdown",
   "metadata": {},
   "source": [
    "#### Valor padrão em um hash\n",
    "\n",
    "Para criar um hash onde cada novo elemento possui um valor padrão, passe o valor como parâmetro para o comando `Hash.new`"
   ]
  },
  {
   "cell_type": "code",
   "execution_count": 44,
   "metadata": {},
   "outputs": [
    {
     "name": "stdout",
     "output_type": "stream",
     "text": [
      "{}\n",
      "valor_padrao\n",
      "{}\n"
     ]
    }
   ],
   "source": [
    "h = Hash.new('valor_padrao')\n",
    "puts h\n",
    "puts h['chave_nova']\n",
    "puts h"
   ]
  },
  {
   "cell_type": "markdown",
   "metadata": {},
   "source": [
    "#### Método '.sort_by'\n",
    "\n",
    "Quando utilizado em um hash, retorna um array de arrays `[chave, valor]` ordenado pelo valor inserido no bloco."
   ]
  },
  {
   "cell_type": "code",
   "execution_count": 45,
   "metadata": {},
   "outputs": [
    {
     "name": "stdout",
     "output_type": "stream",
     "text": [
      "{\"chave1\"=>30, \"chave2\"=>12, \"chave3\"=>17}\n",
      "[[\"chave2\", 12], [\"chave3\", 17], [\"chave1\", 30]]\n"
     ]
    }
   ],
   "source": [
    "hash = {\n",
    "  'chave1' => 30,\n",
    "  'chave2' => 12,\n",
    "  'chave3' => 17\n",
    "}\n",
    "\n",
    "puts hash\n",
    "\n",
    "array_ord = hash.sort_by { |chave, valor| valor }\n",
    "puts array_ord"
   ]
  },
  {
   "cell_type": "markdown",
   "metadata": {},
   "source": [
    "### Blocos e Ordenação"
   ]
  }
 ],
 "metadata": {
  "kernelspec": {
   "display_name": "Ruby 2.6.3",
   "language": "ruby",
   "name": "ruby"
  },
  "language_info": {
   "file_extension": ".rb",
   "mimetype": "application/x-ruby",
   "name": "ruby",
   "version": "2.6.3"
  }
 },
 "nbformat": 4,
 "nbformat_minor": 2
}
