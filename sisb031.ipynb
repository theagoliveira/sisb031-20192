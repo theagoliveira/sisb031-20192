{
 "cells": [
  {
   "cell_type": "markdown",
   "metadata": {},
   "source": [
    "# Desenvolvimento de Software para a Web II\n",
    "\n",
    "## Conceitos de Ruby\n",
    "\n",
    "Baseada no curso do [Codecademy](https://www.codecademy.com/learn/learn-ruby)"
   ]
  },
  {
   "cell_type": "markdown",
   "metadata": {},
   "source": [
    "### Introdução\n",
    "\n",
    "- Linguagem de alto nível: fácil de escrever e entender\n",
    "- Interpretada: não precisa de compilador\n",
    "- Orientada a objetos: _tudo_ é um objeto\n",
    "- Fácil de usar\n",
    "\n",
    "#### Tipos básicos de dados\n",
    "\n",
    "- Numéricos\n",
    "- Booleano\n",
    "- String"
   ]
  },
  {
   "cell_type": "code",
   "execution_count": 1,
   "metadata": {},
   "outputs": [
    {
     "data": {
      "text/plain": [
       "\"UFAL\""
      ]
     },
     "execution_count": 1,
     "metadata": {},
     "output_type": "execute_result"
    }
   ],
   "source": [
    "numero = 10\n",
    "booleano = true # Tudo minúsculo\n",
    "string = \"UFAL\""
   ]
  },
  {
   "cell_type": "markdown",
   "metadata": {},
   "source": [
    "#### Variáveis\n",
    "\n",
    "- Declaração de variável: `variavel = <valor>`\n",
    "- Alteração de uma variável: `variavel = <novo valor>`\n",
    "\n",
    "#### Matemática\n",
    "\n",
    "- Adição: `+`\n",
    "- Subtração: `-`\n",
    "- Multiplicação: `*`\n",
    "- Divisão: `/`\n",
    "- Exponenciação: `**`\n",
    "- Módulo: `%`\n",
    "\n",
    "#### Funções 'puts' e 'print'\n",
    "\n",
    "- `print`: imprime o que você colocar como parâmetro\n",
    "- `puts`: igual `print`, mas pula uma linha\n",
    "\n",
    "obs. 1: `puts` vem de `put string`\n",
    "\n",
    "obs. 2: parênteses são opcionais"
   ]
  },
  {
   "cell_type": "code",
   "execution_count": 2,
   "metadata": {},
   "outputs": [
    {
     "name": "stdout",
     "output_type": "stream",
     "text": [
      "teste1teste2\n",
      "teste3teste4\n"
     ]
    }
   ],
   "source": [
    "print 'teste1'\n",
    "puts 'teste2'\n",
    "print('teste3')\n",
    "puts('teste4')"
   ]
  },
  {
   "cell_type": "markdown",
   "metadata": {},
   "source": [
    "#### Tudo em Ruby é um objeto\n",
    "\n",
    "Todas as variáveis possuem **métodos** que realizam diferentes operações. Os métodos são chamados utilizando um ponto após o nome da variável: `variavel.metodo`\n",
    "\n",
    "#### Método '.length'\n",
    "\n",
    "Retorna a quantidade de caracteres de uma determinada string."
   ]
  },
  {
   "cell_type": "code",
   "execution_count": 3,
   "metadata": {},
   "outputs": [
    {
     "data": {
      "text/plain": [
       "6"
      ]
     },
     "execution_count": 3,
     "metadata": {},
     "output_type": "execute_result"
    }
   ],
   "source": [
    "'thiago'.length"
   ]
  },
  {
   "cell_type": "markdown",
   "metadata": {},
   "source": [
    "#### Método '.reverse'\n",
    "\n",
    "Retorna a string invertida."
   ]
  },
  {
   "cell_type": "code",
   "execution_count": 4,
   "metadata": {},
   "outputs": [
    {
     "name": "stdout",
     "output_type": "stream",
     "text": [
      "thiago\n"
     ]
    }
   ],
   "source": [
    "t = 'thiago'\n",
    "t.reverse\n",
    "puts t"
   ]
  },
  {
   "cell_type": "markdown",
   "metadata": {},
   "source": [
    "#### Métodos '.upcase' e '.downcase'\n",
    "\n",
    "Retornam a string com todas as letras maiúsculas e minúsculas, respectivamente."
   ]
  },
  {
   "cell_type": "code",
   "execution_count": 5,
   "metadata": {},
   "outputs": [
    {
     "name": "stdout",
     "output_type": "stream",
     "text": [
      "THIAGO\n",
      "thiago\n"
     ]
    }
   ],
   "source": [
    "puts 'thiAGo'.upcase\n",
    "puts 'ThiAGO'.downcase"
   ]
  },
  {
   "cell_type": "markdown",
   "metadata": {},
   "source": [
    "#### Comentário em uma linha\n",
    "\n",
    "O comentário é escrito após o símbolo `#`."
   ]
  },
  {
   "cell_type": "code",
   "execution_count": 6,
   "metadata": {},
   "outputs": [
    {
     "name": "stdout",
     "output_type": "stream",
     "text": [
      "teste\n"
     ]
    }
   ],
   "source": [
    "puts 'teste' # Exemplo de comentário"
   ]
  },
  {
   "cell_type": "markdown",
   "metadata": {},
   "source": [
    "#### Comentário em múltiplas linhas\n",
    "\n",
    "O comentário em múltiplas linhas começa com `=begin` e termina com `=end` (sem espaço entre o `=` e as palavras)."
   ]
  },
  {
   "cell_type": "code",
   "execution_count": 7,
   "metadata": {},
   "outputs": [
    {
     "name": "stdout",
     "output_type": "stream",
     "text": [
      "teste\n"
     ]
    }
   ],
   "source": [
    "puts 'teste'\n",
    "=begin\n",
    "comentário de\n",
    "múltiplas\n",
    "linhas\n",
    "=end"
   ]
  },
  {
   "cell_type": "markdown",
   "metadata": {},
   "source": [
    "#### Nomenclatura das variáveis\n",
    "\n",
    "Variáveis locais devem seguir um formato de uma ou múltiplas palavras com letras minúsculas separadas por `_`."
   ]
  },
  {
   "cell_type": "code",
   "execution_count": 8,
   "metadata": {},
   "outputs": [
    {
     "data": {
      "text/plain": [
       "\"teste\""
      ]
     },
     "execution_count": 8,
     "metadata": {},
     "output_type": "execute_result"
    }
   ],
   "source": [
    "variavel = 4\n",
    "variavel_local = 'thiago'\n",
    "outra_variavel = 'teste'"
   ]
  },
  {
   "cell_type": "markdown",
   "metadata": {},
   "source": [
    "#### Exercícios\n",
    "\n",
    "1. Criar variáveis dos tipos básicos\n",
    "2. Realizar operações matemáticas\n",
    "3. Aplicar os diferentes métodos de strings\n",
    "\n",
    "obs.: métodos podem ser aplicados em sequência em uma única linha. Ex.: `'thiago'.reverse.upcase`"
   ]
  },
  {
   "cell_type": "markdown",
   "metadata": {},
   "source": [
    "### Projeto: Criando um formulário\n",
    "\n",
    "#### Solicitando a entrada do usuário\n",
    "\n",
    "Para solicitar uma informação ao usuário, utilizamos a função `print`."
   ]
  },
  {
   "cell_type": "code",
   "execution_count": 9,
   "metadata": {},
   "outputs": [
    {
     "name": "stdout",
     "output_type": "stream",
     "text": [
      "Qual é o seu nome? "
     ]
    }
   ],
   "source": [
    "print \"Qual é o seu nome? \""
   ]
  },
  {
   "cell_type": "markdown",
   "metadata": {},
   "source": [
    "#### Guardando a entrada em uma variável\n",
    "\n",
    "Para receber uma entrada de string, utilize o método `gets` em conjunto com o método `chomp`. O primeiro guarda a entrada com uma linha extra no final e o segundo remove essa linha extra."
   ]
  },
  {
   "cell_type": "code",
   "execution_count": 10,
   "metadata": {},
   "outputs": [
    {
     "data": {
      "text/plain": [
       "\"thiago\""
      ]
     },
     "execution_count": 10,
     "metadata": {},
     "output_type": "execute_result"
    }
   ],
   "source": [
    "# print \"Qual é o seu nome?\"\n",
    "# nome = gets.chomp\n",
    "nome = IRuby::input \"Qual é o seu nome?\""
   ]
  },
  {
   "cell_type": "markdown",
   "metadata": {},
   "source": [
    "#### Interpolação de string\n",
    "\n",
    "Você pode inserir uma string dentro de outra usando a notação `#{variavel}`.\n",
    "\n",
    "obs.1: a string onde a variável será inserida precisa estar delimitada por **aspas duplas**.\n",
    "\n",
    "obs.2: a interpolação pode ser feita com qualquer tipo de dado, não precisa ser uma string."
   ]
  },
  {
   "cell_type": "code",
   "execution_count": 11,
   "metadata": {},
   "outputs": [
    {
     "name": "stdout",
     "output_type": "stream",
     "text": [
      "Seu nome é thiago\n"
     ]
    }
   ],
   "source": [
    "# print \"Qual é o seu nome?\"\n",
    "# nome = gets.chomp\n",
    "nome = IRuby::input \"Qual é o seu nome?\"\n",
    "puts \"Seu nome é #{nome}\""
   ]
  },
  {
   "cell_type": "markdown",
   "metadata": {},
   "source": [
    "#### Métodos '.capitalize' e '.capitalize!'\n",
    "\n",
    "O método `.capitalize` retorna a string com a primeira letra maiúscula. O método `.capitalize!` atribui à própria variável o valor do método `.capitalize`. Ex.: `variavel.capitalize!` é o mesmo que `variavel = variavel.capitalize`.\n",
    "\n",
    "obs.: vários outros métodos possuem uma versão com exclamação, que atribuem o resultado à variável."
   ]
  },
  {
   "cell_type": "code",
   "execution_count": 12,
   "metadata": {},
   "outputs": [
    {
     "name": "stdout",
     "output_type": "stream",
     "text": [
      "thiago\n",
      "Thiago\n",
      "Thiago\n"
     ]
    }
   ],
   "source": [
    "nome = 'thiago'\n",
    "puts nome\n",
    "nome_cap = nome.capitalize\n",
    "puts nome_cap\n",
    "nome.capitalize!\n",
    "puts nome"
   ]
  },
  {
   "cell_type": "markdown",
   "metadata": {},
   "source": [
    "### Controle de Fluxo\n",
    "\n",
    "#### If\n",
    "\n",
    "O comando `if` recebe uma expressão lógica e executa o bloco de código que a segue se o valor for `true`. Se o valor for `false`, o bloco não é executado.\n",
    "\n",
    "obs.: é uma boa prática indentar o bloco dentro de um `if` (ou outros comandos de fluxo)."
   ]
  },
  {
   "cell_type": "code",
   "execution_count": 13,
   "metadata": {},
   "outputs": [
    {
     "name": "stdout",
     "output_type": "stream",
     "text": [
      "thiago\n"
     ]
    }
   ],
   "source": [
    "if 35 > 2\n",
    "  puts 'thiago'\n",
    "end"
   ]
  },
  {
   "cell_type": "markdown",
   "metadata": {},
   "source": [
    "#### Else\n",
    "\n",
    "O `else` pode ser usado em conjunto com o `if` para fornecer um bloco alternativo a ser executado, caso a expressão lógica tenha o valor `false`."
   ]
  },
  {
   "cell_type": "code",
   "execution_count": 14,
   "metadata": {},
   "outputs": [
    {
     "name": "stdout",
     "output_type": "stream",
     "text": [
      "thiago_false\n"
     ]
    }
   ],
   "source": [
    "if 35 < 2\n",
    "  puts 'thiago_true'\n",
    "else\n",
    "  puts 'thiago_false'\n",
    "end"
   ]
  },
  {
   "cell_type": "markdown",
   "metadata": {},
   "source": [
    "#### Elsif\n",
    "\n",
    "O `elsif` pode ser usado (múltiplas vezes) em conjunto com `if` para fornecer expressões lógicas alternativas. O `else` pode ser utilizado por último como um bloco que será executado caso nenhuma expressão seja verdadeira."
   ]
  },
  {
   "cell_type": "code",
   "execution_count": 15,
   "metadata": {},
   "outputs": [
    {
     "name": "stdout",
     "output_type": "stream",
     "text": [
      "x é maior que y\n"
     ]
    }
   ],
   "source": [
    "x = 6\n",
    "y = 5\n",
    "\n",
    "if x > y\n",
    "  puts 'x é maior que y'\n",
    "elsif x < y\n",
    "  puts 'x é menor que y'\n",
    "else\n",
    "  puts 'x é igual a y'\n",
    "end"
   ]
  },
  {
   "cell_type": "markdown",
   "metadata": {},
   "source": [
    "#### Unless\n",
    "\n",
    "Semelhante ao `if`, mas executa o bloco se a expressão tiver o valor `false`. Analogamente, pode ser usado em conjunto com o `else`."
   ]
  },
  {
   "cell_type": "code",
   "execution_count": 16,
   "metadata": {},
   "outputs": [
    {
     "name": "stdout",
     "output_type": "stream",
     "text": [
      "thiago\n"
     ]
    }
   ],
   "source": [
    "unless 35 < 2\n",
    "  puts 'thiago'\n",
    "else\n",
    "  puts 'web'\n",
    "end"
   ]
  },
  {
   "cell_type": "markdown",
   "metadata": {},
   "source": [
    "#### Operadores de comparação: igual/diferente\n",
    "\n",
    "Para checar se duas variáveis são iguais, utiliza-se `==`. Para checar se são diferentes, utiliza-se `!=`."
   ]
  },
  {
   "cell_type": "code",
   "execution_count": 17,
   "metadata": {},
   "outputs": [
    {
     "name": "stdout",
     "output_type": "stream",
     "text": [
      "false\n",
      "true\n"
     ]
    }
   ],
   "source": [
    "x = 4\n",
    "y = 5\n",
    "\n",
    "puts x == y\n",
    "puts x != y"
   ]
  },
  {
   "cell_type": "markdown",
   "metadata": {},
   "source": [
    "#### Outros operadores de comparação\n",
    "\n",
    "- Maior que: `>`\n",
    "- Maior ou igual: `>=`\n",
    "- Menor que: `<`\n",
    "- Menor ou igual: `<=`"
   ]
  },
  {
   "cell_type": "code",
   "execution_count": 18,
   "metadata": {},
   "outputs": [
    {
     "name": "stdout",
     "output_type": "stream",
     "text": [
      "true\n",
      "true\n",
      "false\n",
      "false\n"
     ]
    }
   ],
   "source": [
    "x = 5\n",
    "y = 4\n",
    "\n",
    "\n",
    "puts x > y\n",
    "puts x >= y\n",
    "puts x < y\n",
    "puts x <= y"
   ]
  },
  {
   "cell_type": "markdown",
   "metadata": {},
   "source": [
    "#### Exercícios\n",
    "\n",
    "Qual o valor dos testes abaixo?\n",
    "\n",
    "1. teste_1 = 77 != 77\n",
    "2. teste_2 = -4 <= -4\n",
    "3. teste_3 = -44 < -33\n",
    "4. teste_4 = 100 == 1000"
   ]
  },
  {
   "cell_type": "markdown",
   "metadata": {},
   "source": [
    "#### And\n",
    "\n",
    "A operação lógica AND (E) é feita com o operador `&&`"
   ]
  },
  {
   "cell_type": "code",
   "execution_count": 19,
   "metadata": {},
   "outputs": [
    {
     "name": "stdout",
     "output_type": "stream",
     "text": [
      "false\n",
      "false\n",
      "false\n",
      "true\n"
     ]
    }
   ],
   "source": [
    "puts false && false\n",
    "puts false && true\n",
    "puts true && false\n",
    "puts true && true\n",
    "\n",
    "# Qual o valor dos testes abaixo?\n",
    "# teste_1 = 2**3 != 3**2 || true\n",
    "# teste_2 = false || -10 > -9\n",
    "# teste_3 = false || false"
   ]
  },
  {
   "cell_type": "markdown",
   "metadata": {},
   "source": [
    "#### Or\n",
    "\n",
    "A operação lógica OR (OU) é feita com o operador `||`."
   ]
  },
  {
   "cell_type": "code",
   "execution_count": 20,
   "metadata": {},
   "outputs": [
    {
     "name": "stdout",
     "output_type": "stream",
     "text": [
      "false\n",
      "true\n",
      "true\n",
      "true\n"
     ]
    }
   ],
   "source": [
    "puts false || false\n",
    "puts false || true\n",
    "puts true || false\n",
    "puts true || true\n",
    "\n",
    "# Qual o valor dos testes abaixo?\n",
    "# teste_1 = 2**3 != 3**2 || true\n",
    "# teste_2 = false || -10 > -9\n",
    "# teste_3 = false || false"
   ]
  },
  {
   "cell_type": "markdown",
   "metadata": {},
   "source": [
    "#### Not\n",
    "\n",
    "A operação lógica OR (OU) é feita com o operador `!`."
   ]
  },
  {
   "cell_type": "code",
   "execution_count": 21,
   "metadata": {},
   "outputs": [
    {
     "name": "stdout",
     "output_type": "stream",
     "text": [
      "true\n",
      "false\n"
     ]
    }
   ],
   "source": [
    "puts !false\n",
    "puts !true\n",
    "\n",
    "# Qual o valor dos testes abaixo?\n",
    "# teste_1 = !true\n",
    "# teste_2 = !true && !true\n",
    "# teste_3 = !(700 / 10 == 70)"
   ]
  },
  {
   "cell_type": "markdown",
   "metadata": {},
   "source": [
    "#### Exercícios: Combinando operadores\n",
    "\n",
    "Qual o valor dos testes abaixo?\n",
    "\n",
    "1. `teste_1 = (3 < 4 || false) && (false || true)`\n",
    "2. `teste_2 = !true && (!true || 100 != 5**2)`\n",
    "3. `teste_3 = true || !(true || false)`\n",
    "\n",
    "#### Exercício: if/else\n",
    "\n",
    "Crie uma declaração `if`/`elsif`/`else` onde cada bloco imprima uma frase diferente.\n",
    "\n",
    "#### Exercício: unless\n",
    "\n",
    "Crie uma declaração `unless` que imprima algo na tela.\n",
    "\n",
    "obs.: as declarações `if` e `unless` podem ser usados em uma única linha **após** o comando. Ex.:\n",
    "- `x = 2 if 6 > 7`\n",
    "- `y = 34 unless 8 < 9`\n",
    "\n",
    "#### Exercício: operadores de comparação\n",
    "\n",
    "Crie três expressões lógicas com os valores `false`, `false` e `true`, respectivamente, utilizando operadores de comparação.\n",
    "\n",
    "#### Exercício: operadores lógicos\n",
    "\n",
    "Crie três expressões lógicas com os valores `true`, `true` e `false`, respectivamente utilizando operadores lógicos.\n",
    "\n",
    "Ex.: `(expressao1) && (expressao2)`"
   ]
  },
  {
   "cell_type": "markdown",
   "metadata": {},
   "source": [
    "### Projeto: Cebolinha\n",
    "\n",
    "Criar um programa que receba uma string e troque todos os `r` por `l`.\n",
    "\n",
    "**Desafio**: garantir que os `rr` sejam substituídos por um único `l`.\n",
    "\n",
    "#### Passos\n",
    "\n",
    "1. Receber a entrada do usuário\n",
    "2. Transformar a string para letras minúsculas, assim não precisaremos checar `R` e `r`\n",
    "3. Checar se a string possui `r` com o método `.include?`\n",
    "4. Caso positivo, substituir os `r` por `l` usando o método `.gsub`\n",
    "5. Caso negativo, enviar uma mensagem de erro ao usuário\n",
    "6. Imprimir o resultado na tela, usando interpolação de string"
   ]
  },
  {
   "cell_type": "markdown",
   "metadata": {},
   "source": [
    "#### Método '.include?'\n",
    "\n",
    "Esse método retorna `true` se a string possui a substring que foi passada como parâmetro e retorna `false` no caso contrário.\n",
    "\n",
    "obs.: em geral, métodos que terminam com `?` retornam um valor booleano."
   ]
  },
  {
   "cell_type": "code",
   "execution_count": 22,
   "metadata": {},
   "outputs": [
    {
     "name": "stdout",
     "output_type": "stream",
     "text": [
      "true\n",
      "false\n"
     ]
    }
   ],
   "source": [
    "puts 'thiago'.include? 'thi'\n",
    "puts 'thiago'.include? 'xyz'"
   ]
  },
  {
   "cell_type": "markdown",
   "metadata": {},
   "source": [
    "#### Método '.gsub'\n",
    "\n",
    "Substitui uma substring em uma string, a partir de um padrão fornecido (entre barras). Ex.: `string.gsub(/padrao/, substring)`\n",
    "\n",
    "obs.: possui uma versão com exclamação `gsub!`, que atribui o resultado da substituição à string."
   ]
  },
  {
   "cell_type": "code",
   "execution_count": 23,
   "metadata": {},
   "outputs": [
    {
     "data": {
      "text/plain": [
       "\"tXYZgo\""
      ]
     },
     "execution_count": 23,
     "metadata": {},
     "output_type": "execute_result"
    }
   ],
   "source": [
    "'thiago'.gsub(/hia/,'XYZ')"
   ]
  },
  {
   "cell_type": "markdown",
   "metadata": {},
   "source": [
    "### Laços e iteradores\n",
    "\n",
    "#### While\n",
    "\n",
    "Executa um bloco de código enquanto a expressão lógica tiver valor `true`.\n",
    "\n",
    "obs.: na maioria dos casos tenta-se **evitar** um laço infinito, onde a expressão lógica nunca deixa de ser `true`."
   ]
  },
  {
   "cell_type": "code",
   "execution_count": 24,
   "metadata": {},
   "outputs": [
    {
     "name": "stdout",
     "output_type": "stream",
     "text": [
      "1\n",
      "2\n",
      "3\n",
      "4\n"
     ]
    }
   ],
   "source": [
    "x = 1\n",
    "while x < 5\n",
    "  puts x\n",
    "  x = x + 1\n",
    "end"
   ]
  },
  {
   "cell_type": "markdown",
   "metadata": {},
   "source": [
    "#### Until\n",
    "\n",
    "Análogo do `while`, executa um bloco de código até que uma dada expressão lógica seja `true`. Alternativamente, executa um bloco enquanto a expressão for falsa."
   ]
  },
  {
   "cell_type": "code",
   "execution_count": 25,
   "metadata": {
    "scrolled": true
   },
   "outputs": [
    {
     "name": "stdout",
     "output_type": "stream",
     "text": [
      "1\n",
      "2\n",
      "3\n",
      "4\n"
     ]
    }
   ],
   "source": [
    "x = 1\n",
    "until x == 5\n",
    "  puts x\n",
    "  x = x + 1\n",
    "end"
   ]
  },
  {
   "cell_type": "markdown",
   "metadata": {},
   "source": [
    "#### Operadores de atribuição adicionais\n",
    "\n",
    "Os operadores `+=`, `-=`, `*=` e `/=` atribuem à variável o resultado da operação descrita antes do `=` entre a própria variável e um outro valor. Ex.: `x += 1` é o mesmo que `x = x + 1`."
   ]
  },
  {
   "cell_type": "code",
   "execution_count": 26,
   "metadata": {},
   "outputs": [
    {
     "name": "stdout",
     "output_type": "stream",
     "text": [
      "3\n"
     ]
    }
   ],
   "source": [
    "x = 2\n",
    "x += 1\n",
    "puts x"
   ]
  },
  {
   "cell_type": "markdown",
   "metadata": {},
   "source": [
    "#### For\n",
    "\n",
    "Executa um bloco de código para cada valor de um determinado conjunto."
   ]
  },
  {
   "cell_type": "code",
   "execution_count": 27,
   "metadata": {},
   "outputs": [
    {
     "name": "stdout",
     "output_type": "stream",
     "text": [
      "1\n",
      "2\n",
      "3\n",
      "4\n",
      "5\n",
      "6\n",
      "7\n",
      "8\n",
      "9\n"
     ]
    },
    {
     "data": {
      "text/plain": [
       "1...10"
      ]
     },
     "execution_count": 27,
     "metadata": {},
     "output_type": "execute_result"
    }
   ],
   "source": [
    "for i in 1...10\n",
    "  puts i\n",
    "end"
   ]
  },
  {
   "cell_type": "markdown",
   "metadata": {},
   "source": [
    "#### Ranges inclusivos e exclusivos\n",
    "\n",
    "A notação `numero_inicial...numero_final` (com três pontos) cria um range que vai do número incial até o número antes do final (exclui o último número -- exclusivo). A notação `numero_inicial..numero_final` (com dois pontos) cria um range que vai do número incial até o número final (inclui o último número -- inclusivo). Ex.: `1..10` = `1...11`"
   ]
  },
  {
   "cell_type": "code",
   "execution_count": 28,
   "metadata": {},
   "outputs": [
    {
     "name": "stdout",
     "output_type": "stream",
     "text": [
      "1\n",
      "2\n",
      "\n",
      "10\n",
      "11\n",
      "12\n",
      "13\n"
     ]
    },
    {
     "data": {
      "text/plain": [
       "10..13"
      ]
     },
     "execution_count": 28,
     "metadata": {},
     "output_type": "execute_result"
    }
   ],
   "source": [
    "for num in 1...3\n",
    "  puts num\n",
    "end\n",
    "\n",
    "puts\n",
    "\n",
    "for num in 10..13\n",
    "  puts num\n",
    "end"
   ]
  },
  {
   "cell_type": "markdown",
   "metadata": {},
   "source": [
    "#### Exercício: for\n",
    "\n",
    "Crie um laço `for` que imprime os números de 1 a 20 (incluindo o 20) na tela usando um range inclusivo ou exclusivo."
   ]
  },
  {
   "cell_type": "markdown",
   "metadata": {},
   "source": [
    "#### Iterador loop\n",
    "\n",
    "O iterador `loop` repete o bloco de código que está dentro dele indefinidamente. Para sair do laço, é necessária a utilização do método `break` atrelado a alguma condição. O bloco dentro do método `loop` pode ser chamado entre chaves `{ bloco }` ou entre as palavras `do` e `end`, `do bloco end`.\n",
    "\n",
    "obs.: em geral, utiliza-se a notação de chaves para uma única linha de código e a notação `do`/`end` para múltiplas linhas de código."
   ]
  },
  {
   "cell_type": "code",
   "execution_count": 29,
   "metadata": {},
   "outputs": [
    {
     "name": "stdout",
     "output_type": "stream",
     "text": [
      "0123"
     ]
    }
   ],
   "source": [
    "# loop { puts 'Olá' } -- laço infinito\n",
    "\n",
    "i = 0\n",
    "\n",
    "loop do\n",
    "  print i\n",
    "  i += 1\n",
    "  break if i == 4\n",
    "end"
   ]
  },
  {
   "cell_type": "markdown",
   "metadata": {},
   "source": [
    "#### Comando next\n",
    "\n",
    "O comando `next`, usado em conjunto com `if` ou `unless`, pula a execução do bloco de código em um laço de acordo com a expressão lógica utilizada."
   ]
  },
  {
   "cell_type": "code",
   "execution_count": 30,
   "metadata": {},
   "outputs": [
    {
     "name": "stdout",
     "output_type": "stream",
     "text": [
      "13579"
     ]
    },
    {
     "data": {
      "text/plain": [
       "1..10"
      ]
     },
     "execution_count": 30,
     "metadata": {},
     "output_type": "execute_result"
    }
   ],
   "source": [
    "for num in 1..10\n",
    "  next if (num % 2) == 0\n",
    "  print num\n",
    "end"
   ]
  },
  {
   "cell_type": "markdown",
   "metadata": {},
   "source": [
    "#### Array\n",
    "\n",
    "Um array armazena um conjunto de valores. O valores em um array ficam entre colchetes `[]` e separados por vírgula `,`."
   ]
  },
  {
   "cell_type": "code",
   "execution_count": 31,
   "metadata": {},
   "outputs": [
    {
     "name": "stdout",
     "output_type": "stream",
     "text": [
      "[1, \"thiago\", true, 45]"
     ]
    }
   ],
   "source": [
    "x = [1, 'thiago', true, 45]\n",
    "print x"
   ]
  },
  {
   "cell_type": "markdown",
   "metadata": {},
   "source": [
    "#### Iterador '.each'\n",
    "\n",
    "Semelhante ao `loop`, mas executa um bloco de código para cada elemento em um objeto. A notação é similar, no entando o bloco recebe um parâmetro para o elemento, o qual é declarado entre barras verticais. Ex.:\n",
    "\n",
    "- `objeto.each do |elemento| bloco end`\n",
    "- `objeto.each { |elemento| bloco }`"
   ]
  },
  {
   "cell_type": "code",
   "execution_count": 32,
   "metadata": {
    "scrolled": true
   },
   "outputs": [
    {
     "name": "stdout",
     "output_type": "stream",
     "text": [
      "2\n",
      "4\n",
      "6\n",
      "8\n"
     ]
    },
    {
     "data": {
      "text/plain": [
       "[1, 2, 3, 4]"
      ]
     },
     "execution_count": 32,
     "metadata": {},
     "output_type": "execute_result"
    }
   ],
   "source": [
    "[1, 2, 3, 4].each do |x|\n",
    "  x *= 2\n",
    "  puts \"#{x}\"\n",
    "end"
   ]
  },
  {
   "cell_type": "markdown",
   "metadata": {},
   "source": [
    "#### Iterador '.times'\n",
    "\n",
    "Semelhante ao `for`, mas mais compacto. Executa um bloco de código uma determinada quantidade de vezes."
   ]
  },
  {
   "cell_type": "code",
   "execution_count": 33,
   "metadata": {},
   "outputs": [
    {
     "name": "stdout",
     "output_type": "stream",
     "text": [
      "thiago\n",
      "thiago\n",
      "thiago\n",
      "ufal\n",
      "ufal\n",
      "ufal\n"
     ]
    },
    {
     "data": {
      "text/plain": [
       "3"
      ]
     },
     "execution_count": 33,
     "metadata": {},
     "output_type": "execute_result"
    }
   ],
   "source": [
    "3.times { puts 'thiago' }\n",
    "\n",
    "3.times do\n",
    "  puts 'ufal'\n",
    "end"
   ]
  },
  {
   "cell_type": "markdown",
   "metadata": {},
   "source": [
    "#### Exercício: while\n",
    "\n",
    "Use o `while` para imprimir os números de 1 a 50 (incluindo o 50) em uma única linha.\n",
    "\n",
    "Não esquecer de atualizar a variável!\n",
    "\n",
    "#### Exercício: until\n",
    "\n",
    "Refaça o exercício anterior com `until`.\n",
    "\n",
    "#### Exercício: for\n",
    "\n",
    "Refaça o exercício anterior com `for`.\n",
    "\n",
    "#### Exercício: loop\n",
    "\n",
    "Utilize o `loop` para imprimir seu nome na tela, em uma única linha, 30 vezes.\n",
    "\n",
    "Não esquecer de colocar uma condição de saída com `break`!\n",
    "\n",
    "#### Exercício: '.times'\n",
    "\n",
    "Refaça o exercício anterior com `.times`"
   ]
  },
  {
   "cell_type": "markdown",
   "metadata": {},
   "source": [
    "### Projeto: Escondendo informações\n",
    "\n",
    "Crie um programa que substitua um determinado termo por `XXXXX`.\n",
    "\n",
    "#### Passos\n",
    "\n",
    "1. Receber do usuário o texto e o termo a ser substituído\n",
    "2. Transforme um texto em um array onde cada elemento é uma palavra da frase usando o método '.split'\n",
    "3. Utilizando um laço `.each`, verifique com um `if`/`else` cada palavra no array e imprima apenas aquelas que não são iguais ao termo dado como entrada\n",
    "4. Para as palavras iguais ao termo, imprima a string `XXXXX` no lugar"
   ]
  },
  {
   "cell_type": "markdown",
   "metadata": {},
   "source": [
    "#### Método '.split'\n",
    "\n",
    "Recebe uma string como entrada e retorna um array. O array contém as substrings separadas pela string de entrada (chamada de **delimitador**)."
   ]
  },
  {
   "cell_type": "code",
   "execution_count": 34,
   "metadata": {},
   "outputs": [
    {
     "data": {
      "text/plain": [
       "[\"th\", \"ia\", \"go\"]"
      ]
     },
     "execution_count": 34,
     "metadata": {},
     "output_type": "execute_result"
    }
   ],
   "source": [
    "'th ia go'.split(' ')"
   ]
  },
  {
   "cell_type": "markdown",
   "metadata": {},
   "source": [
    "### Estruturas de Dados\n",
    "\n",
    "#### Acessando um array pelo índice\n",
    "\n",
    "Você pode acessar um determinado elemento em um array pela sua posição (a primeira posição é a 0). A posição é dada após o nome da variável entre colchetes."
   ]
  },
  {
   "cell_type": "code",
   "execution_count": 35,
   "metadata": {},
   "outputs": [
    {
     "name": "stdout",
     "output_type": "stream",
     "text": [
      "1\n"
     ]
    }
   ],
   "source": [
    "array = [1, 2, 3, 4]\n",
    "puts array[0]"
   ]
  },
  {
   "cell_type": "markdown",
   "metadata": {},
   "source": [
    "#### Arrays não numéricos\n",
    "\n",
    "Um array pode conter outros tipos de dados, inclusive tipos misturados."
   ]
  },
  {
   "cell_type": "code",
   "execution_count": 36,
   "metadata": {
    "scrolled": false
   },
   "outputs": [
    {
     "data": {
      "text/plain": [
       "[133, \"thiago\", true]"
      ]
     },
     "execution_count": 36,
     "metadata": {},
     "output_type": "execute_result"
    }
   ],
   "source": [
    "array = [133, 'thiago', true]"
   ]
  },
  {
   "cell_type": "markdown",
   "metadata": {},
   "source": [
    "#### Array de arrays\n",
    "\n",
    "Um array pode conter também outros arrays. Esses arrays podem ser chamados de **arrays multidimensionais** (ex.: matrizes). Os elementos de um array multidimensional podem ser acessados semelhantemente aos arrays unidimensionais, sendo necessário colocar um grupo de colchetes igual ao número de dimensões do array."
   ]
  },
  {
   "cell_type": "code",
   "execution_count": 37,
   "metadata": {},
   "outputs": [
    {
     "name": "stdout",
     "output_type": "stream",
     "text": [
      "[[1, 2, 3], [4, 5, 6], [7, 8, 9]]\n",
      "6\n"
     ]
    }
   ],
   "source": [
    "mult_array = [[1, 2, 3], [4, 5, 6], [7, 8, 9]]\n",
    "puts mult_array\n",
    "puts mult_array[1][2]"
   ]
  },
  {
   "cell_type": "markdown",
   "metadata": {},
   "source": [
    "#### Hashes\n",
    "\n",
    "Hashes são coleções de pares `chave`/`valor`. Cada chave possui um único valor atrelado."
   ]
  },
  {
   "cell_type": "code",
   "execution_count": 38,
   "metadata": {},
   "outputs": [
    {
     "data": {
      "text/plain": [
       "{\"nome\"=>\"thiago\", \"idade\"=>200, \"professor?\"=>true}"
      ]
     },
     "execution_count": 38,
     "metadata": {},
     "output_type": "execute_result"
    }
   ],
   "source": [
    "pessoa = {\n",
    "  'nome' => 'thiago',\n",
    "  'idade' => 200,\n",
    "  'professor?' => true\n",
    "}"
   ]
  },
  {
   "cell_type": "markdown",
   "metadata": {},
   "source": [
    "#### Criando um novo hash com Hash.new\n",
    "\n",
    "O código `Hash.new` utiliza o método `new` da classe `Hash` para retornar um hash vazio."
   ]
  },
  {
   "cell_type": "code",
   "execution_count": 39,
   "metadata": {},
   "outputs": [
    {
     "name": "stdout",
     "output_type": "stream",
     "text": [
      "{}\n"
     ]
    }
   ],
   "source": [
    "h = Hash.new\n",
    "puts h"
   ]
  },
  {
   "cell_type": "markdown",
   "metadata": {},
   "source": [
    "#### Adicionando elementos a um hash\n",
    "\n",
    "Utilizando a notação de acesso com uma nova chave, é possível adicionar valores a um hash."
   ]
  },
  {
   "cell_type": "code",
   "execution_count": 40,
   "metadata": {},
   "outputs": [
    {
     "name": "stdout",
     "output_type": "stream",
     "text": [
      "{\"chave\"=>\"valor\"}\n"
     ]
    }
   ],
   "source": [
    "h['chave'] = 'valor'\n",
    "puts h"
   ]
  },
  {
   "cell_type": "markdown",
   "metadata": {},
   "source": [
    "#### Acessando elementos em um hash\n",
    "\n",
    "O acesso aos valores é feito da mesma forma que se faz com um array, no entanto se usa a chave e não a posição do elemento."
   ]
  },
  {
   "cell_type": "code",
   "execution_count": 41,
   "metadata": {},
   "outputs": [
    {
     "name": "stdout",
     "output_type": "stream",
     "text": [
      "thiago\n",
      "200\n",
      "true\n"
     ]
    }
   ],
   "source": [
    "puts pessoa['nome']\n",
    "puts pessoa['idade']\n",
    "puts pessoa['professor?']"
   ]
  },
  {
   "cell_type": "markdown",
   "metadata": {},
   "source": [
    "#### Iteração sobre arrays\n",
    "\n",
    "Como visto anteriormente, é possível utilizar o iterador `.each` em um array para executar um bloco de código em cada elemento."
   ]
  },
  {
   "cell_type": "code",
   "execution_count": 42,
   "metadata": {},
   "outputs": [
    {
     "name": "stdout",
     "output_type": "stream",
     "text": [
      "abcdefghi"
     ]
    },
    {
     "data": {
      "text/plain": [
       "[\"abc\", \"def\", \"ghi\"]"
      ]
     },
     "execution_count": 42,
     "metadata": {},
     "output_type": "execute_result"
    }
   ],
   "source": [
    "array = ['abc', 'def', 'ghi']\n",
    "array.each { |elem| print elem }"
   ]
  },
  {
   "cell_type": "markdown",
   "metadata": {},
   "source": [
    "#### Iteração sobre arrays multidimensionais\n",
    "\n",
    "O iterador `.each` pode ser utilizado repetidas vezes em um array de arrays para executar um bloco em cada elemento."
   ]
  },
  {
   "cell_type": "code",
   "execution_count": 43,
   "metadata": {},
   "outputs": [
    {
     "name": "stdout",
     "output_type": "stream",
     "text": [
      "14916"
     ]
    },
    {
     "data": {
      "text/plain": [
       "[[1, 2], [3, 4]]"
      ]
     },
     "execution_count": 43,
     "metadata": {},
     "output_type": "execute_result"
    }
   ],
   "source": [
    "array = [[1, 2], [3, 4]]\n",
    "array.each do |sub_array|\n",
    "  sub_array.each do |elemento|\n",
    "    print elemento**2\n",
    "  end\n",
    "end"
   ]
  },
  {
   "cell_type": "markdown",
   "metadata": {},
   "source": [
    "#### Iteração sobre hashes\n",
    "\n",
    "Quando se usa o iterador `.each` em um hash, é necessário declarar duas variáveis entre barras verticais separadas por vírgula, relativas a chave e o valor associado."
   ]
  },
  {
   "cell_type": "code",
   "execution_count": 44,
   "metadata": {},
   "outputs": [
    {
     "name": "stdout",
     "output_type": "stream",
     "text": [
      "nome: thiago\n",
      "idade: 200\n",
      "professor?: true\n"
     ]
    },
    {
     "data": {
      "text/plain": [
       "{\"nome\"=>\"thiago\", \"idade\"=>200, \"professor?\"=>true}"
      ]
     },
     "execution_count": 44,
     "metadata": {},
     "output_type": "execute_result"
    }
   ],
   "source": [
    "pessoa.each do |chave, valor|\n",
    "  puts \"#{chave}: #{valor}\"\n",
    "end"
   ]
  },
  {
   "cell_type": "markdown",
   "metadata": {},
   "source": [
    "#### Exercício: array multidimensional\n",
    "\n",
    "Crie um array multidimensional com vários tipos de dados.\n",
    "\n",
    "#### Exercício: hashes\n",
    "\n",
    "Crie um hash com pelo menos um par chave/valor.\n",
    "\n",
    "#### Exercício: iteração sobre hash\n",
    "\n",
    "Imprima cada valor do hash abaixo (sem a chave, apenas o valor) utilizando o iterador `.each`:\n",
    "\n",
    "``` ruby\n",
    "almoco = {\n",
    "  \"Thiago\" => \"sopa\",\n",
    "  \"José\" => \"hambúrguer\",\n",
    "  \"Maria\" => \"sanduíche\",\n",
    "  \"Ana\" => \"salada\"\n",
    "}\n",
    "```"
   ]
  },
  {
   "cell_type": "markdown",
   "metadata": {},
   "source": [
    "### Projeto: Histograma\n",
    "\n",
    "Crie um programa que conte quantas vezes cada palavra aparece em um texto e imprima os valores na tela.\n",
    "\n",
    "#### Passos\n",
    "\n",
    "1. Receber o texto do usuário\n",
    "2. Utilize o método `.split` para separar o texto em um array palavras\n",
    "3. Crie um hash com valor padrão 0 para contabilizar a frequência de palavras\n",
    "4. A partir de uma iteração no array de palavras, utilizando cada palavra como uma chave, incremente o valor de cada palavra no hash\n",
    "5. Ordene o hash pelo valor da frequência de cada palavra com o método `.sort_by`\n",
    "6. A partir de uma iteração no array resultante do método `.sort_by`, imprima a palavra e a respectiva contagem na tela"
   ]
  },
  {
   "cell_type": "markdown",
   "metadata": {},
   "source": [
    "#### Valor padrão em um hash\n",
    "\n",
    "Para criar um hash onde cada novo elemento possui um valor padrão, passe o valor como parâmetro para o comando `Hash.new`"
   ]
  },
  {
   "cell_type": "code",
   "execution_count": 45,
   "metadata": {},
   "outputs": [
    {
     "name": "stdout",
     "output_type": "stream",
     "text": [
      "{}\n",
      "valor_padrao\n",
      "{}\n"
     ]
    }
   ],
   "source": [
    "h = Hash.new('valor_padrao')\n",
    "puts h\n",
    "puts h['chave_nova']\n",
    "puts h"
   ]
  },
  {
   "cell_type": "markdown",
   "metadata": {},
   "source": [
    "#### Método '.sort_by'\n",
    "\n",
    "Quando utilizado em um hash, retorna um array de arrays `[chave, valor]` ordenado pelo valor inserido no bloco."
   ]
  },
  {
   "cell_type": "code",
   "execution_count": 46,
   "metadata": {},
   "outputs": [
    {
     "name": "stdout",
     "output_type": "stream",
     "text": [
      "{\"chave1\"=>30, \"chave2\"=>12, \"chave3\"=>17}\n",
      "[[\"chave2\", 12], [\"chave3\", 17], [\"chave1\", 30]]\n"
     ]
    }
   ],
   "source": [
    "hash = {\n",
    "  'chave1' => 30,\n",
    "  'chave2' => 12,\n",
    "  'chave3' => 17\n",
    "}\n",
    "\n",
    "puts hash\n",
    "\n",
    "array_ord = hash.sort_by { |chave, valor| valor }\n",
    "puts array_ord"
   ]
  },
  {
   "cell_type": "markdown",
   "metadata": {},
   "source": [
    "### Métodos, blocos e ordenação\n",
    "\n",
    "#### Sintaxe de métodos\n",
    "\n",
    "Métodos são definidos com a palavra `def`. Possuem 3 partes:\n",
    "\n",
    "- **Cabeçalho** com o nome do método e os parâmetros\n",
    "- **Corpo** com a lógica de programação\n",
    "- **Final** com a palavra `end`"
   ]
  },
  {
   "cell_type": "code",
   "execution_count": 47,
   "metadata": {},
   "outputs": [
    {
     "name": "stdout",
     "output_type": "stream",
     "text": [
      "Oi, meu nome é Thiago.\n"
     ]
    }
   ],
   "source": [
    "# Definição do método\n",
    "def imprimir_nome\n",
    "  puts \"Oi, meu nome é Thiago.\"\n",
    "end\n",
    "\n",
    "# Chamada do método\n",
    "imprimir_nome"
   ]
  },
  {
   "cell_type": "markdown",
   "metadata": {},
   "source": [
    "#### Parâmetros e argumentos\n",
    "\n",
    "- Parâmetros: nome dado aos argumentos esperados pelo método quando ela é definida\n",
    "- Argumentos: valores passados para o método na chamada\n",
    "\n",
    "Os parâmetros são escritos entre parênteses ao lado do nome do método na definição."
   ]
  },
  {
   "cell_type": "code",
   "execution_count": 48,
   "metadata": {},
   "outputs": [
    {
     "name": "stdout",
     "output_type": "stream",
     "text": [
      "64\n",
      "27\n"
     ]
    }
   ],
   "source": [
    "def quadrado(x) # x é um parâmetro\n",
    "  puts x ** 2\n",
    "end\n",
    "\n",
    "def cubo(y)\n",
    "  puts y ** 3\n",
    "end\n",
    "\n",
    "quadrado(8) # 8 é um argumento\n",
    "cubo(3)"
   ]
  },
  {
   "cell_type": "markdown",
   "metadata": {},
   "source": [
    "#### Operador _splat_ (*)\n",
    "\n",
    "Quando um método não possui um número fixo de argumentos que ele pode receber, o operador _splat_ pode ser utilizado."
   ]
  },
  {
   "cell_type": "code",
   "execution_count": 49,
   "metadata": {},
   "outputs": [
    {
     "name": "stdout",
     "output_type": "stream",
     "text": [
      "[\"thiago\", \"ana\", \"maria\", \"josé\"]\n",
      "e ae, thiago\n",
      "e ae, ana\n",
      "e ae, maria\n",
      "e ae, josé\n"
     ]
    },
    {
     "data": {
      "text/plain": [
       "[\"thiago\", \"ana\", \"maria\", \"josé\"]"
      ]
     },
     "execution_count": 49,
     "metadata": {},
     "output_type": "execute_result"
    }
   ],
   "source": [
    "def oi(cumprimento, *amigos)\n",
    "  puts amigos\n",
    "  amigos.each do |amigo|\n",
    "    puts \"#{cumprimento}, #{amigo}\"\n",
    "  end\n",
    "end\n",
    "\n",
    "oi(\"e ae\", \"thiago\", \"ana\", \"maria\", \"josé\")"
   ]
  },
  {
   "cell_type": "markdown",
   "metadata": {},
   "source": [
    "#### Retornando valores\n",
    "\n",
    "O método pode retornar algum valor quando chamado com a utilização da palavra `return`."
   ]
  },
  {
   "cell_type": "code",
   "execution_count": 50,
   "metadata": {},
   "outputs": [
    {
     "name": "stdout",
     "output_type": "stream",
     "text": [
      "14\n"
     ]
    }
   ],
   "source": [
    "def soma(x, y)\n",
    "  return x + y\n",
    "end\n",
    "\n",
    "n = soma(5, 9)\n",
    "puts n"
   ]
  },
  {
   "cell_type": "markdown",
   "metadata": {},
   "source": [
    "#### Exercício\n",
    "\n",
    "1. Defina um método `cumprimento` com um parâmetro `nome` que **retorne** uma frase com um cumprimento para esse nome.\n",
    "2. Defina um método `divide_por_tres?` com um parametro `numero` que **retorna** `true` caso esse número seja divisível por 3 e `false` caso contrário."
   ]
  },
  {
   "cell_type": "markdown",
   "metadata": {},
   "source": [
    "#### Blocos\n",
    "\n",
    "Blocos podem ser vistos como métodos sem nome (semelhantes a funções anônimas em JavaScript ou lambdas em Python). São definidos com as palavras `do`/`end` ou entre chaves `{}`."
   ]
  },
  {
   "cell_type": "code",
   "execution_count": 51,
   "metadata": {},
   "outputs": [
    {
     "name": "stdout",
     "output_type": "stream",
     "text": [
      "Isso é um bloco.\n",
      "Isso também.\n"
     ]
    },
    {
     "data": {
      "text/plain": [
       "1"
      ]
     },
     "execution_count": 51,
     "metadata": {},
     "output_type": "execute_result"
    }
   ],
   "source": [
    "1.times { puts \"Isso é um bloco.\" }\n",
    "\n",
    "1.times do\n",
    "  puts \"Isso também.\"\n",
    "end"
   ]
  },
  {
   "cell_type": "markdown",
   "metadata": {},
   "source": [
    "#### Diferença entre blocos e métodos\n",
    "\n",
    "- Métodos possuem nome e podem ser chamados ao longo de um programa quantas vezes for necessário\n",
    "- Blocos são executados apenas em um momento específico (dentro de um iterador, por exemplo) e depois desaparecem"
   ]
  },
  {
   "cell_type": "code",
   "execution_count": 52,
   "metadata": {},
   "outputs": [
    {
     "name": "stdout",
     "output_type": "stream",
     "text": [
      "Thiago\n",
      "Cavalcante\n",
      "Thiago\n",
      "Cavalcante\n"
     ]
    },
    {
     "data": {
      "text/plain": [
       "[\"thiago\", \"cavalcante\"]"
      ]
     },
     "execution_count": 52,
     "metadata": {},
     "output_type": "execute_result"
    }
   ],
   "source": [
    "def primeira_maiuscula(palavra)\n",
    "  puts \"#{palavra[0].upcase}#{palavra[1..-1]}\"\n",
    "end\n",
    "\n",
    "primeira_maiuscula('thiago')\n",
    "primeira_maiuscula('cavalcante')\n",
    "\n",
    "['thiago','cavalcante'].each do |palavra|\n",
    "  puts \"#{palavra[0].upcase}#{palavra[1..-1]}\"\n",
    "end"
   ]
  },
  {
   "cell_type": "markdown",
   "metadata": {},
   "source": [
    "#### Blocos como argumentos de métodos\n",
    "\n",
    "Blocos podem ser usados para abstrair a função de um determinado método."
   ]
  },
  {
   "cell_type": "code",
   "execution_count": 53,
   "metadata": {},
   "outputs": [
    {
     "name": "stdout",
     "output_type": "stream",
     "text": [
      "1 4 9 16 25 "
     ]
    },
    {
     "data": {
      "text/plain": [
       "[1, 2, 3, 4, 5]"
      ]
     },
     "execution_count": 53,
     "metadata": {},
     "output_type": "execute_result"
    }
   ],
   "source": [
    "[1, 2, 3, 4, 5].each { |i| print \"#{i ** 2} \" } # O bloco é um argumento para o método each"
   ]
  },
  {
   "cell_type": "markdown",
   "metadata": {},
   "source": [
    "#### Introdução a ordenação\n",
    "\n",
    "A biblioteca padrão do Ruby contém métodos de ordenação, como o `.sort/.sort!`"
   ]
  },
  {
   "cell_type": "code",
   "execution_count": 54,
   "metadata": {},
   "outputs": [
    {
     "name": "stdout",
     "output_type": "stream",
     "text": [
      "[2, 3, 3, 6, 8]\n",
      "[2, 3, 3, 6, 8]\n",
      "[\"Ana\", \"João\", \"Maria\", \"Thiago\"]\n",
      "[\"Ana\", \"João\", \"Maria\", \"Thiago\"]\n"
     ]
    }
   ],
   "source": [
    "numeros = [3, 8, 2, 6, 3]\n",
    "\n",
    "puts numeros.sort\n",
    "\n",
    "numeros.sort!\n",
    "puts numeros\n",
    "\n",
    "# Também pode ser usado em uma lista de nomes\n",
    "nomes = ['Thiago', 'Ana', 'Maria', 'João']\n",
    "\n",
    "puts nomes.sort\n",
    "\n",
    "nomes.sort!\n",
    "puts nomes"
   ]
  },
  {
   "cell_type": "markdown",
   "metadata": {},
   "source": [
    "#### Operador de comparação combinada\n",
    "\n",
    "O operador `<=>` compara dois elementos e pode retornar três valores distintos:\n",
    "\n",
    "- 1, caso o primeiro elemento seja maior que o segundo\n",
    "- 0, caso os elementos sejam iguais\n",
    "- -1, caso o primeiro elemento seja menor que o segundo"
   ]
  },
  {
   "cell_type": "code",
   "execution_count": 55,
   "metadata": {},
   "outputs": [
    {
     "name": "stdout",
     "output_type": "stream",
     "text": [
      "1\n",
      "0\n",
      "-1\n"
     ]
    }
   ],
   "source": [
    "puts 10 <=> 7\n",
    "puts 11 <=> 11\n",
    "puts 14 <=> 98"
   ]
  },
  {
   "cell_type": "markdown",
   "metadata": {},
   "source": [
    "O método `sort` pode receber um bloco como argumento para determinar o critério de ordenação. Esse bloco deve retornar valores iguais ao do operador `<=>`. Nesse caso, o valor `-1` indica que o primeiro elemento deve ficar antes do segundo e o `1` indica que deve o primiro elemento deve ficar depois do segundo."
   ]
  },
  {
   "cell_type": "code",
   "execution_count": 56,
   "metadata": {},
   "outputs": [
    {
     "name": "stdout",
     "output_type": "stream",
     "text": [
      "[\"Ana\", \"João\", \"Maria\", \"Thiago\"]\n",
      "[\"Ana\", \"João\", \"Maria\", \"Thiago\"]\n",
      "[\"Thiago\", \"Maria\", \"João\", \"Ana\"]\n"
     ]
    }
   ],
   "source": [
    "nomes = ['Thiago', 'Ana', 'Maria', 'João']\n",
    "\n",
    "puts nomes.sort! # Por padrão, faz uma ordenaçao ascendente, do menor para o maior\n",
    "puts nomes.sort! { |primeiro_elem, segundo_elem| primeiro_elem <=> segundo_elem }\n",
    "puts nomes.sort! { |primeiro_elem, segundo_elem| segundo_elem <=> primeiro_elem }"
   ]
  },
  {
   "cell_type": "markdown",
   "metadata": {},
   "source": [
    "#### Exercícios: métodos\n",
    "\n",
    "Crie um método `bem_vindo` que imprime na tela `bem-vindo ao Ruby!`\n",
    "\n",
    "#### Exercícios: parâmetros\n",
    "\n",
    "Mude o método da questão anterior e adicione um parâmetro `nome`. Substitua o código do método por `return \"Olá, #{nome}\"`\n",
    "\n",
    "#### Exercícios: blocos\n",
    "\n",
    "``` ruby\n",
    "array = [1, 2, 3, 4, 5]\n",
    "\n",
    "array.each \n",
    "```\n",
    "\n",
    "Adicione um bloco ao `.each` no código acima que multiplique cada elemento por si mesmo e imprima o resultado na tela.\n",
    "\n",
    "#### Exercícios: ordenação\n",
    "\n",
    "``` ruby\n",
    "frutas = ['laranja', 'maçã', 'banana', 'pera', 'uva']\n",
    "```\n",
    "\n",
    "Use `.sort!` para ordenar o array acima em ordem alfabética descendente (ou inversa). Você pode usar o operador de comparação combinada ou uma expressão `if`/`elsif`/`else`.\n",
    "\n",
    "### Projeto: Ordenando sua biblioteca\n",
    "\n",
    "Crie um método capaz de ordenar um array de strings em ordem alfabética ascendente ou descendente, de acordo com a escolha do usuário.\n",
    "\n",
    "#### Passos\n",
    "\n",
    "1. Defina o método\n",
    "2. Adicione os parâmetros para o array e para a variável booleana de escolha da ordenação reversa. Esta última deve receber um valor padrão `false`\n",
    "3. Adicione a lógica do método. Você pode usar o metodo `.sort!` em conjunto com blocos para ordenar de forma direta e inversa ou usar o método `.reverse!` para inverter o array depois de ordenado\n",
    "\n",
    "#### Parâmetros com valores padrão\n",
    "\n",
    "Ao definir um método, você pode atribuir um valor padrão a um parâmetro, de forma que esse parâmetro assumirá esse valor sempre que o seu valor não for especificado na chamada."
   ]
  },
  {
   "cell_type": "code",
   "execution_count": 57,
   "metadata": {},
   "outputs": [
    {
     "name": "stdout",
     "output_type": "stream",
     "text": [
      "14\n",
      "6\n"
     ]
    }
   ],
   "source": [
    "def soma(x, y=2)\n",
    "  puts x + y\n",
    "end\n",
    "\n",
    "soma(4, 10)\n",
    "soma(4)"
   ]
  },
  {
   "cell_type": "markdown",
   "metadata": {},
   "source": [
    "### Hashes e símbolos\n",
    "\n",
    "#### Relembrando hashes\n",
    "\n",
    "Um hash pode ser criado com uma atribuição direta a um hash vazio `h = {}`ou com o comando `h = Hash.new`. É possível adicionar um valor padrão que será retornado sempre que o hash seja acessado com uma chave inexistente usando `h = Hash.new(<valor padrão>)`\n",
    "\n",
    "Pode-se também realizar uma iteração em um hash usando o método `.each`, lembrando que o bloco recebe dois parâmetros: um para a chave e outro para o valor.\n",
    "\n",
    "`h.each { |k, v| puts \"#{k}: #{v}\" }`\n",
    "\n",
    "#### Nil\n",
    "\n",
    "Ao tentar acessar uma chave inexistente em um hash (que não foi inicializado com um valor padrão), o programa retorna o objeto `nil`. Esse objeto, juntamente com o valor `false`, são os únicos elementos não verdadeiros em Ruby. É importante salientar que `false` e `nil` **não são a mesma coisa**. O objeto `nil` significa \"nada\"."
   ]
  },
  {
   "cell_type": "code",
   "execution_count": 58,
   "metadata": {
    "scrolled": false
   },
   "outputs": [
    {
     "name": "stdout",
     "output_type": "stream",
     "text": [
      "true\n",
      "false\n"
     ]
    }
   ],
   "source": [
    "h = {\n",
    "  'nome' => 'thiago',\n",
    "  'idade' => -229\n",
    "}\n",
    "\n",
    "puts h['endereço'] == nil\n",
    "\n",
    "puts false == nil"
   ]
  },
  {
   "cell_type": "markdown",
   "metadata": {},
   "source": [
    "#### Símbolos\n",
    "\n",
    "Símbolos funcionam como nomes que são reconhecidos em um programa Ruby. Eles são escritos com a sintaxe `:simbolo`, iniciando o nome com dois pontos `:`. Os símbolos não são strings e funcionam de forma diferente.\n",
    "\n",
    "Duas strings iguais, para o programa, são objetos diferentes. Dois símbolos iguais, por outro lado, são o mesmo objeto. Isso pode ser verificado com o método `.object_id`.\n",
    "\n",
    "Os nomes dos símbolos obedecem às mesmas regras dos nomes de variáveis. O primeiro caractere após os dois pontos deve ser uma letra ou underline `_`. Símbolos também não podem ter espaço no nome."
   ]
  },
  {
   "cell_type": "code",
   "execution_count": 59,
   "metadata": {},
   "outputs": [
    {
     "name": "stdout",
     "output_type": "stream",
     "text": [
      "false\n",
      "47252331248240\n",
      "47252331244300\n",
      "4397148\n",
      "4397148\n",
      "simbolo\n"
     ]
    }
   ],
   "source": [
    "puts \"string\" == :string\n",
    "\n",
    "puts \"string\".object_id # ID de objeto das duas strings é diferente, apesar de serem strings iguais\n",
    "puts \"string\".object_id\n",
    "puts :simbolo.object_id # ID de objeto dos símbolos é sempre o mesmo\n",
    "puts :simbolo.object_id\n",
    "\n",
    "x = :simbolo # Atribuindo um símbolo a uma variável\n",
    "puts x"
   ]
  },
  {
   "cell_type": "markdown",
   "metadata": {},
   "source": [
    "#### Usando símbolos\n",
    "\n",
    "Os usos mais comuns de símbolos em Ruby são:\n",
    "\n",
    "- Chaves em hashes\n",
    "- Referências para nomes de métodos\n",
    "\n",
    "A utilização de símbolos em hashes traz algumas vantagens:\n",
    "\n",
    "- Símbolos são imutáveis, não podem ser alterados depois de criados\n",
    "- Só existe uma cópia de cada símbolo na memória, o que traz uma economia de memória para o programa\n",
    "- Símbolos como chaves são mais rápidos do que strings como chaves"
   ]
  },
  {
   "cell_type": "code",
   "execution_count": 60,
   "metadata": {},
   "outputs": [
    {
     "data": {
      "text/plain": [
       "{:nome=>\"thiago\", :idade=>3.14, :professor=>true}"
      ]
     },
     "execution_count": 60,
     "metadata": {},
     "output_type": "execute_result"
    }
   ],
   "source": [
    "h = {\n",
    "  :nome => \"thiago\",\n",
    "  :idade => 3.14,\n",
    "  :professor => true\n",
    "}"
   ]
  },
  {
   "cell_type": "markdown",
   "metadata": {},
   "source": [
    "#### Convertendo entre string e símbolo\n",
    "\n",
    "Para converter entre string e símbolo, utilizam-se os métodos `.to_s` e `.to_sym`. O método `.to_s` converte uma variável (que pode ser um símbolo, inteiro, array etc.) para string. O método `.to_sym`, por sua vez, converte uma string para um símbolo."
   ]
  },
  {
   "cell_type": "code",
   "execution_count": 61,
   "metadata": {},
   "outputs": [
    {
     "name": "stdout",
     "output_type": "stream",
     "text": [
      "[:Thiago, :UFAL, :Penedo, :Web, :II]\n"
     ]
    }
   ],
   "source": [
    "strings = [\"Thiago\", \"UFAL\", \"Penedo\", \"Web\", \"II\"]\n",
    "\n",
    "simbolos = []\n",
    "\n",
    "strings.each do |str|\n",
    "  simbolos.push(str.to_sym) # O método push insere um novo elemento em um array\n",
    "end\n",
    "\n",
    "puts simbolos"
   ]
  },
  {
   "cell_type": "markdown",
   "metadata": {},
   "source": [
    "O método `.to_sym` pode ser substituído pelo método `.intern`, que possui a mesma função.\n",
    "\n",
    "#### Nova notação para hashes\n",
    "\n",
    "A partir do Ruby versão 1.9, foi definida uma nova sintaxe mais simples para criação de hashes. A sintaxe padrão, conhecida como ***hash rockets*** (por causa do símbolo `=>`), foi trocada por uma sintaxe mais direta:"
   ]
  },
  {
   "cell_type": "code",
   "execution_count": 62,
   "metadata": {},
   "outputs": [
    {
     "name": "stdout",
     "output_type": "stream",
     "text": [
      "true\n"
     ]
    }
   ],
   "source": [
    "# Hash rockets\n",
    "h1 = {\n",
    "  :nome => 'thiago',\n",
    "  :idade => 2\n",
    "}\n",
    "\n",
    "# Nova sintaxe\n",
    "h2 = {\n",
    "  nome: 'thiago',\n",
    "  idade: 2\n",
    "}\n",
    "\n",
    "puts h1 == h2"
   ]
  },
  {
   "cell_type": "markdown",
   "metadata": {},
   "source": [
    "#### Selecionando valores\n",
    "\n",
    "É possivel filtrar um hash com valores que obedecem a um determinado critério usando o método `.select`. Esse método recebe um bloco como argumento. Dentro do bloco está a expressão lógica que define o critério desejado."
   ]
  },
  {
   "cell_type": "code",
   "execution_count": 63,
   "metadata": {},
   "outputs": [
    {
     "name": "stdout",
     "output_type": "stream",
     "text": [
      "{:thiago=>9.2, :jose=>8.6, :maria=>9.9}\n",
      "{:thiago=>9.2, :maria=>9.9}\n",
      "{:thiago=>9.2}\n"
     ]
    }
   ],
   "source": [
    "notas = {\n",
    "  thiago: 9.2,\n",
    "  jose: 8.6,\n",
    "  ana: 7.8,\n",
    "  maria: 9.9,\n",
    "  carlos: 6.5\n",
    "}\n",
    "\n",
    "puts notas.select { |aluno, nota| nota > 8 }\n",
    "puts notas.select { |aluno, nota| aluno[0] > 'l' }\n",
    "puts notas.select { |aluno, nota| aluno == :thiago }"
   ]
  },
  {
   "cell_type": "markdown",
   "metadata": {},
   "source": [
    "#### Métodos adicionais\n",
    "\n",
    "Hashes possuem dois métodos adicionais para realização de iterações, além do `.each`. O método `.each_key` permite uma iteração feita apenas nas chaves do hash e o método `.each_value` permite uma iteração nos valores."
   ]
  },
  {
   "cell_type": "code",
   "execution_count": 64,
   "metadata": {},
   "outputs": [
    {
     "name": "stdout",
     "output_type": "stream",
     "text": [
      "thiago\n",
      "jose\n",
      "ana\n",
      "maria\n",
      "carlos\n",
      "9.2\n",
      "8.6\n",
      "7.8\n",
      "9.9\n",
      "6.5\n"
     ]
    },
    {
     "data": {
      "text/plain": [
       "{:thiago=>9.2, :jose=>8.6, :ana=>7.8, :maria=>9.9, :carlos=>6.5}"
      ]
     },
     "execution_count": 64,
     "metadata": {},
     "output_type": "execute_result"
    }
   ],
   "source": [
    "notas.each_key { |aluno| puts aluno }\n",
    "notas.each_value { |notas| puts notas }"
   ]
  },
  {
   "cell_type": "markdown",
   "metadata": {},
   "source": [
    "### Projeto: Cadastro de filmes\n",
    "\n",
    "Crie um programa que crie um cadastro de filmes e suas respectivas notas, com as ações de **adicionar** um novo filme ao cadastro, **atualizar** a nota de um filme, **mostrar** todos os filmes cadastrados e **remover** um filme do cadastro.\n",
    "\n",
    "#### Passos\n",
    "\n",
    "1. Crie um hash para armazenar os filmes e notas\n",
    "2. Crie uma variável para o nome da ação e peça ao usuário que digite sua escolha\n",
    "3. Trate cada escolha com uma expressão `case`, incluindo o caso onde a opção não é válida\n",
    "4. No caso **adicionar**, peça ao usuário o nome do filme e uma nota e salve-os no hash. Use o título como a chave e a nota como o valor. A chave deve ser um símbolo e o valor um número inteiro (convertido com o método `to_i`). Antes de pedir a nota, faça uma checagem para saber se o filme já está no hash ou não (sabendo que uma chave não existente retorna nil) e imprima uma mensagem de erro caso esteja.\n",
    "5. No caso **atualizar**, peça ao usuário o nome do filme e uma nova nota e salve-os no hash. Antes de pedir a nota, faça uma checagem para saber se o filme já está no hash ou não (sabendo que uma chave não existente retorna nil) e imprima uma mensagem de erro caso não esteja.\n",
    "6. No caso **mostrar**, faça uma iteração no hash dos filmes e exiba o título e nota no padrão \"título: nota\"\n",
    "7. No caso **remover**, cheque se o filme está presente no hash e remova-o com o método `.delete`. Caso contrário, exiba uma mensagem de erro."
   ]
  },
  {
   "cell_type": "code",
   "execution_count": 65,
   "metadata": {},
   "outputs": [
    {
     "data": {
      "text/plain": [
       "{}"
      ]
     },
     "execution_count": 65,
     "metadata": {},
     "output_type": "execute_result"
    }
   ],
   "source": [
    "filmes = {}"
   ]
  },
  {
   "cell_type": "code",
   "execution_count": 66,
   "metadata": {},
   "outputs": [
    {
     "data": {
      "text/plain": [
       "{}"
      ]
     },
     "execution_count": 66,
     "metadata": {},
     "output_type": "execute_result"
    }
   ],
   "source": [
    "# puts \"Digite uma ação: adicionar, atualizar, remover, mostrar\"\n",
    "# escolha = gets.chomp\n",
    "escolha = IRuby::input \"Digite uma ação: adicionar, atualizar, mostrar, remover\"\n",
    "\n",
    "case escolha\n",
    "  when 'adicionar'\n",
    "    # puts \"Título:\"\n",
    "    # titulo = gets.chomp\n",
    "    titulo = IRuby::input \"Título:\"\n",
    "    if (filmes[titulo.to_sym] == nil)\n",
    "      # puts \"Nota:\"\n",
    "      # nota = gets.chomp\n",
    "      nota = IRuby::input \"Nota:\"\n",
    "      filmes[titulo.to_sym] = nota.to_i\n",
    "    else\n",
    "      puts 'Filme já cadastrado'\n",
    "    end\n",
    "  when 'atualizar'\n",
    "    # puts \"Título:\"\n",
    "    # titulo = gets.chomp\n",
    "    titulo = IRuby::input \"Título:\"\n",
    "    if (filmes[titulo.to_sym] != nil)\n",
    "      # puts \"Nova nota:\"\n",
    "      # nota = gets.chomp\n",
    "      nota = IRuby::input \"Nova nota:\"\n",
    "      filmes[titulo.to_sym] = nota.to_i\n",
    "    else\n",
    "      puts 'Filme não cadastrado'\n",
    "    end\n",
    "  when 'mostrar'\n",
    "    filmes.each do |titulo, nota|\n",
    "      puts \"#{titulo}: #{nota}\"\n",
    "    end\n",
    "  when 'remover'\n",
    "    # puts \"Título:\"\n",
    "    # titulo = gets.chomp\n",
    "    titulo = IRuby::input \"Título:\"\n",
    "    if (filmes[titulo.to_sym] != nil)\n",
    "      filmes.delete(titulo.to_sym)\n",
    "    else\n",
    "      puts 'Filme não cadastrado'\n",
    "    end\n",
    "  else\n",
    "    puts 'Opção inválida'\n",
    "end"
   ]
  },
  {
   "cell_type": "markdown",
   "metadata": {},
   "source": [
    "#### Expressão `case`\n",
    "\n",
    "Quando se quer checar muitas possibilidades para o valor de uma variável, a utilização de uma expressão `if`/`elsif`/`else` pode poluir o código, além de levar um certo tempo para ser digitada. A expressão `case` facilita esse procedimento. Ela é iniciada com `case variável` e para cada valor que se quer checar, usa-se a palavra `when valor`. Ao final, se houver uma ação padrão a ser executada caso a variável não tenha nenhum valor especificado, utiliza-se a palavra `else`. A expressão `case` é finalizada com um `end`."
   ]
  },
  {
   "cell_type": "code",
   "execution_count": 67,
   "metadata": {},
   "outputs": [
    {
     "name": "stdout",
     "output_type": "stream",
     "text": [
      "onze\n",
      "onze\n"
     ]
    }
   ],
   "source": [
    "numero = 11\n",
    "\n",
    "# case\n",
    "case numero\n",
    "  when 9\n",
    "    puts \"nove\"\n",
    "  when 10\n",
    "    puts \"dez\"\n",
    "  when 11\n",
    "    puts \"onze\"\n",
    "  else\n",
    "    puts \"outro\"\n",
    "end\n",
    "\n",
    "# if\n",
    "if numero == 9\n",
    "  puts \"nove\"\n",
    "elsif numero == 10\n",
    "  puts \"dez\"\n",
    "elsif numero == 11\n",
    "  puts \"onze\"\n",
    "else\n",
    "  puts \"outro\"\n",
    "end"
   ]
  },
  {
   "cell_type": "markdown",
   "metadata": {},
   "source": [
    "#### Método `.delete`\n",
    "\n",
    "Remove um elemento de um hash"
   ]
  },
  {
   "cell_type": "code",
   "execution_count": 68,
   "metadata": {},
   "outputs": [
    {
     "name": "stdout",
     "output_type": "stream",
     "text": [
      "{:nome=>\"thiago\", :idade=>99}\n",
      "{:idade=>99}\n"
     ]
    }
   ],
   "source": [
    "h = {\n",
    "  nome: \"thiago\",\n",
    "  idade: 99\n",
    "}\n",
    "\n",
    "puts h\n",
    "h.delete(:nome)\n",
    "puts h"
   ]
  },
  {
   "cell_type": "markdown",
   "metadata": {},
   "source": [
    "### Boas práticas do Ruby\n",
    "\n",
    "Estratégias que podem ser utilizadas para simplificar um código ou melhorar sua leitura e entendimento:\n",
    "\n",
    "- Expressões `if` ou `unless` em uma única linha\n",
    "- Operador ternário `? :`\n",
    "- Expressão `case` com `when`/`then`\n",
    "- Atribuição condicional `||=`\n",
    "- `return` implícito\n",
    "- Usar `.times` quando se quer fazer um mesmo procedimento repetidas vezes ou `.each` quando se quer fazer um mesmo procedimento em cada elemento de um conjunto (utilizar outras formas de iteração ao invés do `for`, quando possível)\n",
    "- Métodos `.upto` ou `.downto`, quando se quer realizar uma iteração em uma sequência específica de valores.\n",
    "- Método `respond_to?`, para saber se uma determinada variável possui o método que se deseja usar\n",
    "- Operador de concatenação `<<` para adicionar um elemento em um array (ao invés de `.push`) ou concatenar duas strings\n",
    "- Interpolação de string para adicionar variáveis que não são strings dentro de uma string"
   ]
  },
  {
   "cell_type": "code",
   "execution_count": 69,
   "metadata": {},
   "outputs": [
    {
     "name": "stdout",
     "output_type": "stream",
     "text": [
      "Thiago\n",
      "Cavalcante\n"
     ]
    }
   ],
   "source": [
    "# if e unless em uma linha\n",
    "puts \"Thiago\" if true\n",
    "puts \"Cavalcante\" unless false"
   ]
  },
  {
   "cell_type": "code",
   "execution_count": 70,
   "metadata": {},
   "outputs": [
    {
     "name": "stdout",
     "output_type": "stream",
     "text": [
      "Cavalcante\n"
     ]
    }
   ],
   "source": [
    "# operador ternário\n",
    "nome = false\n",
    "puts nome == true ? \"Thiago\" : \"Cavalcante\""
   ]
  },
  {
   "cell_type": "code",
   "execution_count": 71,
   "metadata": {},
   "outputs": [
    {
     "name": "stdout",
     "output_type": "stream",
     "text": [
      "30\n"
     ]
    }
   ],
   "source": [
    "# case com when/then\n",
    "numero = 10\n",
    "case numero\n",
    "  when 10 then puts numero + 20\n",
    "  when 20 then puts numero + 40\n",
    "  when 30 then puts numero + 60\n",
    "end"
   ]
  },
  {
   "cell_type": "code",
   "execution_count": 72,
   "metadata": {},
   "outputs": [
    {
     "name": "stdout",
     "output_type": "stream",
     "text": [
      "nome: \n",
      "nome: Thiago\n",
      "nome: Thiago\n",
      "nome: Ana\n"
     ]
    }
   ],
   "source": [
    "# atribuição condicional\n",
    "nome = nil\n",
    "puts \"nome: #{nome}\"\n",
    "nome ||= \"Thiago\"\n",
    "puts \"nome: #{nome}\"\n",
    "nome ||= \"Ana\"\n",
    "puts \"nome: #{nome}\"\n",
    "nome = \"Ana\"\n",
    "puts \"nome: #{nome}\""
   ]
  },
  {
   "cell_type": "code",
   "execution_count": 73,
   "metadata": {},
   "outputs": [
    {
     "name": "stdout",
     "output_type": "stream",
     "text": [
      "true\n"
     ]
    }
   ],
   "source": [
    "# return implicito\n",
    "def soma1(x, y)\n",
    "  return x + y\n",
    "end\n",
    "\n",
    "def soma2(x, y)\n",
    "  x + y\n",
    "end\n",
    "    \n",
    "puts soma1(1, 2) == soma2(1, 2)"
   ]
  },
  {
   "cell_type": "code",
   "execution_count": 74,
   "metadata": {},
   "outputs": [
    {
     "name": "stdout",
     "output_type": "stream",
     "text": [
      "10 11 12 13 14 15 16 17 18 19 20 \n",
      "40 39 38 37 36 35 34 33 32 31 30 \n",
      "L M N O P Q R S T U V W X Y Z "
     ]
    },
    {
     "data": {
      "text/plain": [
       "\"L\""
      ]
     },
     "execution_count": 74,
     "metadata": {},
     "output_type": "execute_result"
    }
   ],
   "source": [
    "# upto e downto\n",
    "10.upto(20) { |e| print \"#{e} \" }\n",
    "puts\n",
    "40.downto(30) { |e| print \"#{e} \" }\n",
    "puts\n",
    "\"L\".upto(\"Z\") { |e| print \"#{e} \" } # downto não funciona com string"
   ]
  },
  {
   "cell_type": "code",
   "execution_count": 75,
   "metadata": {},
   "outputs": [
    {
     "name": "stdout",
     "output_type": "stream",
     "text": [
      "false\n",
      "true\n"
     ]
    }
   ],
   "source": [
    "# respond_to?\n",
    "puts 'string'.respond_to?(:downto)\n",
    "puts 10.respond_to?(:upto)"
   ]
  },
  {
   "cell_type": "code",
   "execution_count": 76,
   "metadata": {},
   "outputs": [
    {
     "name": "stdout",
     "output_type": "stream",
     "text": [
      "[1, 2, 3]\n",
      "thi\n",
      "[1, 2, 3, 4]\n",
      "thiago\n"
     ]
    }
   ],
   "source": [
    "# operador de concatenação <<\n",
    "arr = [1, 2, 3]\n",
    "str = \"thi\"\n",
    "\n",
    "puts arr\n",
    "puts str\n",
    "\n",
    "arr << 4\n",
    "str << \"ago\"\n",
    "\n",
    "puts arr\n",
    "puts str"
   ]
  },
  {
   "cell_type": "code",
   "execution_count": 77,
   "metadata": {},
   "outputs": [
    {
     "name": "stdout",
     "output_type": "stream",
     "text": [
      "Valor do número: 10\n",
      "Valor do número: 10\n"
     ]
    }
   ],
   "source": [
    "# interpolação de string\n",
    "numero = 10\n",
    "\n",
    "puts \"Valor do número: #{numero}\"\n",
    "puts \"Valor do número: \" + numero.to_s"
   ]
  },
  {
   "cell_type": "markdown",
   "metadata": {},
   "source": [
    "#### Exercícios\n",
    "\n",
    "Reescreva os códigos abaixo usando as estratégias citadas.\n",
    "\n",
    "1) if e unless em uma linha\n",
    "``` ruby\n",
    "if 1 < 2\n",
    "  puts \"um é menor que dois\"\n",
    "end\n",
    "```\n",
    "2) operador ternário\n",
    "```ruby\n",
    "if 1 < 2\n",
    "  puts \"um é menor que dois\"\n",
    "else\n",
    "  puts \"um não é menor que dois\"\n",
    "end\n",
    "```\n",
    "3) case\n",
    "```ruby\n",
    "puts \"qual sua linguagem de programação favorita?\"\n",
    "ling = gets.chomp\n",
    "\n",
    "if ling == \"Ruby\"\n",
    "  puts \"Ruby é ótima para web apps\"\n",
    "elsif ling == \"Python\"\n",
    "  puts \"Python é ótima para ciência\"\n",
    "elsif ling == \"HTML\"\n",
    "  puts \"HTML é do que são feitos os sites\"\n",
    "elsif ling == \"CSS\"\n",
    "  puts \"CSS faz os sites ficarem bonitos\"\n",
    "else\n",
    "  puts \"não conheco essa linguagem\"\n",
    "end\n",
    "```\n",
    "4) atribuição condicional: crie uma variável e faça uma atribuição condicional\n",
    "5) `return` implícito: crie um método `quadrado` que recebe um número como argumento e retorna o quadrado desse número\n",
    "6) uso do for\n",
    "```ruby\n",
    "for i in (1..3)\n",
    "  puts \"Sou um ótimo programador!\"\n",
    "end\n",
    "```"
   ]
  }
 ],
 "metadata": {
  "kernelspec": {
   "display_name": "Ruby 2.6.3",
   "language": "ruby",
   "name": "ruby"
  },
  "language_info": {
   "file_extension": ".rb",
   "mimetype": "application/x-ruby",
   "name": "ruby",
   "version": "2.6.3"
  }
 },
 "nbformat": 4,
 "nbformat_minor": 2
}
